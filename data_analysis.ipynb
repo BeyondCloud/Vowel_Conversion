{
 "cells": [
  {
   "cell_type": "code",
   "execution_count": 22,
   "metadata": {},
   "outputs": [],
   "source": [
    "\"\"\"\n",
    "Make a \"broken\" horizontal bar plot, ie one with gaps\n",
    "\"\"\"\n",
    "import matplotlib.pyplot as plt\n",
    "import matplotlib.patches as mpatches\n",
    "\n",
    "def plot_range_all(lower,upper,gender,name_lst):\n",
    "    \n",
    "    fig = plt.figure()\n",
    "    ax = fig.add_subplot(111)\n",
    "    # start start+len\n",
    "    \n",
    "    for i in range(len(name_lst)):\n",
    "        y_pos = (i+1)*20\n",
    "        if gender[i] == \"M\":\n",
    "            ax.broken_barh([ (lower[i],upper[i]-lower[i])] , (y_pos, 9), facecolors='blue')\n",
    "        else:\n",
    "            ax.broken_barh([ (lower[i],upper[i]-lower[i])] , (y_pos, 9), facecolors='red')\n",
    "            \n",
    "    ax.set_xlabel('f0 range')\n",
    "    ax.set_yticks(range(25,25+len(name_lst)*20,20))\n",
    "    ax.set_yticklabels(name_lst)\n",
    "    ax.set_ylim(5,25+len(name_lst)*20)\n",
    "    ax.set_xlim(20,55)\n",
    "    ax.grid(True)\n",
    "    red_patch = mpatches.Patch(color='red', label='Female')\n",
    "    blue_patch = mpatches.Patch(color='blue', label='Male')\n",
    "    plt.legend(handles=[blue_patch,red_patch])\n",
    "    \n",
    "    plt.show()\n",
    "    return fig"
   ]
  },
  {
   "cell_type": "code",
   "execution_count": 76,
   "metadata": {},
   "outputs": [
    {
     "data": {
      "text/plain": [
       "range(5, 20)"
      ]
     },
     "execution_count": 76,
     "metadata": {},
     "output_type": "execute_result"
    }
   ],
   "source": [
    "range(5,20)"
   ]
  },
  {
   "cell_type": "code",
   "execution_count": 23,
   "metadata": {},
   "outputs": [
    {
     "data": {
      "image/png": "[encoded data removed]",
      "text/plain": [
       "<Figure size 432x288 with 1 Axes>"
      ]
     },
     "metadata": {},
     "output_type": "display_data"
    }
   ],
   "source": [
    "import os\n",
    "import json\n",
    "import soundfile as sf\n",
    "import pyworld as pw\n",
    "import matplotlib.pyplot as plt\n",
    "import numpy as np\n",
    "plt.rcParams['font.family'] = 'DFKai-sb'\n",
    "plt.rcParams.update({'font.size': 10})\n",
    "\n",
    "wav_dir = 'gliss_dataset'\n",
    "all_name = os.listdir(wav_dir)\n",
    "all_lower = np.zeros(shape=(len(all_name),))\n",
    "all_upper = np.zeros(shape=(len(all_name),))\n",
    "gender_lst = []\n",
    "\n",
    "for i,who in enumerate(all_name):  \n",
    "    rangePath = os.path.join(wav_dir,who,\"info.json\")\n",
    "    with open(rangePath, 'r') as f:\n",
    "        info = json.load(f)\n",
    "        [min_note,max_note] = info['pRange']\n",
    "        gender_lst += info['gender']\n",
    "\n",
    "    all_lower[i] = min_note\n",
    "    all_upper[i] = max_note\n",
    "fig = plot_range_all(all_lower,all_upper,gender_lst,all_name)\n",
    "fig.savefig('f0_range.png', dpi=200)\n"
   ]
  }
 ],
 "metadata": {
  "kernelspec": {
   "display_name": "Python 3",
   "language": "python",
   "name": "python3"
  },
  "language_info": {
   "codemirror_mode": {
    "name": "ipython",
    "version": 3
   },
   "file_extension": ".py",
   "mimetype": "text/x-python",
   "name": "python",
   "nbconvert_exporter": "python",
   "pygments_lexer": "ipython3",
   "version": "3.6.5"
  }
 },
 "nbformat": 4,
 "nbformat_minor": 2
}
