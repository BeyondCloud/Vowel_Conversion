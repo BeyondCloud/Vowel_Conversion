{
 "cells": [
  {
   "cell_type": "markdown",
   "metadata": {},
   "source": [
    "### Warning : this notebook's operation is dangerous since it will change the whole dataset simultaneously"
   ]
  },
  {
   "cell_type": "code",
   "execution_count": 2,
   "metadata": {
    "collapsed": true
   },
   "outputs": [
    {
     "name": "stdout",
     "output_type": "stream",
     "text": [
      "gliss_dataset\\Abun\\info.json\n",
      "gliss_dataset\\boton\\info.json\n",
      "gliss_dataset\\cos\\info.json\n",
      "gliss_dataset\\LISA\\info.json\n",
      "gliss_dataset\\乙彤\\info.json\n",
      "gliss_dataset\\偉晉\\info.json\n",
      "gliss_dataset\\君豪\\info.json\n",
      "gliss_dataset\\士峰\\info.json\n",
      "gliss_dataset\\妤瑄\\info.json\n",
      "gliss_dataset\\子齊\\info.json\n",
      "gliss_dataset\\庭鈞\\info.json\n",
      "gliss_dataset\\徐葳\\info.json\n",
      "gliss_dataset\\志祥\\info.json\n",
      "gliss_dataset\\我\\info.json\n",
      "gliss_dataset\\敬恆\\info.json\n",
      "gliss_dataset\\昱嘉\\info.json\n",
      "gliss_dataset\\漢文\\info.json\n",
      "gliss_dataset\\瀞云\\info.json\n",
      "gliss_dataset\\繁傑\\info.json\n",
      "gliss_dataset\\聖倫\\info.json\n",
      "gliss_dataset\\贊全\\info.json\n",
      "gliss_dataset\\長霖\\info.json\n"
     ]
    }
   ],
   "source": [
    "import os\n",
    "import pickle\n",
    "import json\n",
    "import soundfile as sf\n",
    "import pyworld as pw\n",
    "import matplotlib.pyplot as plt\n",
    "import numpy as np\n",
    "plt.rcParams['font.family'] = 'DFKai-sb'\n",
    "plt.rcParams.update({'font.size': 10})\n",
    "\n",
    "wav_dir = 'gliss_dataset'\n",
    "all_name = os.listdir(wav_dir)\n",
    "for i,who in enumerate(all_name):  \n",
    "    rangePath = os.path.join(wav_dir,who,\"pRange.pkl\")\n",
    "    [clip_lower,clip_upper] = pickle.load(open(rangePath, \"rb\"))\n",
    "    data = {'pRange':[clip_lower,clip_upper],'gender':'M'}\n",
    "    \n",
    "    jsonPath = os.path.join(wav_dir,who,\"info.json\")\n",
    "    with open(jsonPath, 'w') as f:\n",
    "        json.dump(data, f)\n",
    "\n",
    "    print(jsonPath)"
   ]
  },
  {
   "cell_type": "code",
   "execution_count": 4,
   "metadata": {},
   "outputs": [],
   "source": [
    "for i,who in enumerate(all_name):  \n",
    "    rangePath = os.path.join(wav_dir,who,\"pRange.pkl\")\n",
    "    os.remove(rangePath)"
   ]
  }
 ],
 "metadata": {
  "kernelspec": {
   "display_name": "Python 3",
   "language": "python",
   "name": "python3"
  },
  "language_info": {
   "codemirror_mode": {
    "name": "ipython",
    "version": 3
   },
   "file_extension": ".py",
   "mimetype": "text/x-python",
   "name": "python",
   "nbconvert_exporter": "python",
   "pygments_lexer": "ipython3",
   "version": "3.6.5"
  }
 },
 "nbformat": 4,
 "nbformat_minor": 2
}
