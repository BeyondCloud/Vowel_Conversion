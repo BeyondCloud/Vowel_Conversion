{
 "cells": [
  {
   "cell_type": "code",
   "execution_count": 1,
   "metadata": {},
   "outputs": [],
   "source": [
    "pass_list = [0,0,0,0,0]\n",
    "clip_lower,clip_upper = 0,100\n"
   ]
  },
  {
   "cell_type": "markdown",
   "metadata": {},
   "source": [
    "### 請用盡量喉音而非鼻音\n",
    "\n"
   ]
  },
  {
   "cell_type": "code",
   "execution_count": 3,
   "metadata": {
    "scrolled": true
   },
   "outputs": [
    {
     "name": "stdout",
     "output_type": "stream",
     "text": [
      "~~~~~~~~~~~~~~~~~~~~~~~~~~~~~~~~~\n",
      "a 分析結果:\n",
      "最低音限制(< 27 ): 26.608 pass\n",
      "最高音限制(> 38 ): 38.344 pass\n"
     ]
    },
    {
     "data": {
      "text/plain": [
       "<Figure size 640x480 with 1 Axes>"
      ]
     },
     "metadata": {},
     "output_type": "display_data"
    },
    {
     "name": "stdout",
     "output_type": "stream",
     "text": [
      "del_note(<= 0.35 ): 0.1672434764503734 pass\n",
      "del_sp(< 1e-06 ): 2.3613947533621347e-10\n",
      "~~~~~~~~~~~~~~~~~~~~~~~~~~~~~~~~~\n",
      "i 分析結果:\n",
      "最低音限制(< 27 ): 26.296 pass\n",
      "最高音限制(> 38 ): 38.367 pass\n"
     ]
    },
    {
     "data": {
      "text/plain": [
       "<Figure size 640x480 with 1 Axes>"
      ]
     },
     "metadata": {},
     "output_type": "display_data"
    },
    {
     "name": "stdout",
     "output_type": "stream",
     "text": [
      "del_note(<= 0.35 ): 0.18512760044251308 pass\n",
      "del_sp(< 1e-06 ): 5.386404373499612e-10\n",
      "~~~~~~~~~~~~~~~~~~~~~~~~~~~~~~~~~\n",
      "u 分析結果:\n",
      "最低音限制(< 27 ): 26.779 pass\n",
      "最高音限制(> 38 ): 38.346 pass\n"
     ]
    },
    {
     "data": {
      "text/plain": [
       "<Figure size 640x480 with 1 Axes>"
      ]
     },
     "metadata": {},
     "output_type": "display_data"
    },
    {
     "name": "stdout",
     "output_type": "stream",
     "text": [
      "del_note(<= 0.35 ): 0.23019059137202902 pass\n",
      "del_sp(< 1e-06 ): 5.203083105836947e-11\n",
      "~~~~~~~~~~~~~~~~~~~~~~~~~~~~~~~~~\n",
      "e 分析結果:\n",
      "最低音限制(< 27 ): 26.32 pass\n",
      "最高音限制(> 38 ): 38.361 pass\n"
     ]
    },
    {
     "data": {
      "text/plain": [
       "<Figure size 640x480 with 1 Axes>"
      ]
     },
     "metadata": {},
     "output_type": "display_data"
    },
    {
     "name": "stdout",
     "output_type": "stream",
     "text": [
      "del_note(<= 0.35 ): 0.16951855374826863 pass\n",
      "del_sp(< 1e-06 ): 1.1337990899847715e-08\n",
      "~~~~~~~~~~~~~~~~~~~~~~~~~~~~~~~~~\n",
      "o 分析結果:\n",
      "最低音限制(< 27 ): 26.298 pass\n",
      "最高音限制(> 38 ): 38.065 pass\n"
     ]
    },
    {
     "data": {
      "text/plain": [
       "<Figure size 640x480 with 1 Axes>"
      ]
     },
     "metadata": {},
     "output_type": "display_data"
    },
    {
     "name": "stdout",
     "output_type": "stream",
     "text": [
      "del_note(<= 0.35 ): 0.20314506527311238 pass\n",
      "del_sp(< 1e-06 ): 1.4674514297773559e-10\n",
      "your pitch range: [27.0, 38.0]\n",
      "saved pitch range: [27, 38]\n",
      "==================結果===================\n",
      "恭喜! 您的音檔可以使用，感謝您的配合!\n"
     ]
    }
   ],
   "source": [
    "pass_list = [0,0,0,0,0]\n",
    "clip_lower,clip_upper = 27,38\n",
    "gender = 'M'\n",
    "#28 38 9 男\n",
    "#32 42 9 女\n",
    "\n",
    "from termcolor import colored\n",
    "import sys\n",
    "import numpy as np\n",
    "import json\n",
    "\n",
    "import matplotlib.pyplot as plt\n",
    "import os.path\n",
    "\n",
    "import soundfile as sf\n",
    "# import librosa\n",
    "import pyworld as pw\n",
    "\n",
    "subject_note_lower = 0\n",
    "subject_note_upper = 100\n",
    "\n",
    "frame_period = 10.0 # millisecond\n",
    "samples_per_frame = int(np.floor(44100.0 * frame_period/1000.0))\n",
    "\n",
    "aiueo = ['a','i','u','e','o']\n",
    "\n",
    "max_del_note = 0.35\n",
    "del_sp_upper = 0.000001  #1.7\n",
    "def get_valid_f0_idx(f0,max_note,min_note,tol = 5):\n",
    "    f0_max = 440*np.power(2,(max_note-49.0)/12.0)\n",
    "    f0_min = 440*np.power(2,(min_note-49.0)/12.0)\n",
    "    idx = np.where(np.logical_and(f0>=f0_min-tol, f0<=f0_max+tol))\n",
    "    return idx\n",
    "\n",
    "for i in range(len(aiueo)):\n",
    "    if pass_list[i]:\n",
    "        print(aiueo[i] , \"pass\")\n",
    "        continue\n",
    "    isPass = True\n",
    "    print(\"~~~~~~~~~~~~~~~~~~~~~~~~~~~~~~~~~\")\n",
    "    file_cnt = 2\n",
    "    wavname = 'data/'+aiueo[i]\n",
    "    if not os.path.isfile(wavname+'.wav'):\n",
    "        print(colored('錯誤:找不到音檔','red'),wavname+'.wav')\n",
    "        continue\n",
    "\n",
    "    x, fs = sf.read(wavname+'.wav')\n",
    "\n",
    "    if fs != 44100:\n",
    "        print(\"錯誤:請使用44100採樣率(sample rate:44100)\")\n",
    "        continue\n",
    "    try:\n",
    "        x = (x[:,0] + x[:,1])/2 # stereo to mono\n",
    "        x = x/max(x)*0.5\n",
    "    except:\n",
    "        print(\"錯誤:請使用雙聲道(stereo 2 channel)錄音\")\n",
    "        continue\n",
    "    num_of_frames = int(np.floor(len(x)/samples_per_frame))    \n",
    "    f0, sp, _ = pw.wav2world(x, fs, frame_period =  frame_period)    # use default options\n",
    "\n",
    "    print(aiueo[i],'分析結果:')   \n",
    "    \n",
    "#     plt.plot(f0)\n",
    "#     plt.show()\n",
    "\n",
    "    f0 = f0[1:]    \n",
    "    sp = sp[1:]\n",
    "\n",
    "    #criteria 2:minimun delta note (sorted) \n",
    "    \n",
    "    #if there exist 2 file with same vowel, detect its f0 as well\n",
    "    while os.path.isfile(wavname+str(file_cnt)+'.wav'):\n",
    "        print('include',str(file_cnt)+'.wav' )\n",
    "        x2,_ = sf.read(wavname+str(file_cnt)+'.wav')\n",
    "        x2 = (x2[:,0] + x2[:,1])/2 # stereo to mono\n",
    "        x2 = x2/max(x2)*0.5\n",
    "        f02, sp2,_ = pw.wav2world(x2, fs, frame_period =  frame_period)    # use default options\n",
    "        f02 = f02[1:]\n",
    "        sp2 = sp2[1:]\n",
    "        f0 =np.concatenate((f0,f02), axis=0)\n",
    "        sp =np.concatenate((sp,sp2), axis=0)\n",
    "        file_cnt += 1\n",
    "\n",
    "    idx = get_valid_f0_idx(f0,clip_upper,clip_lower)\n",
    "    f0_note = 12*np.log2(f0[idx]/440)+49\n",
    "    \n",
    "    #criteria 1: max pitch ,min pitch\n",
    "    print(\"最低音限制(<\",clip_lower,\"):\",round(min(f0_note),3),\"pass\" if min(f0_note)<clip_lower else \"fail\")\n",
    "    print(\"最高音限制(>\",clip_upper,\"):\",round(max(f0_note),3),\"pass\" if max(f0_note)>clip_upper else \"fail\")\n",
    "    if (not max(f0_note)>clip_upper) or ((not min(f0_note)<clip_lower)):\n",
    "        isPass = False \n",
    "  \n",
    "    #min_his = min(np.histogram(f0_note, bins=13)[0])\n",
    "    sp = sp[idx]\n",
    "    subject_note_lower = max(np.ceil(min(f0_note)),subject_note_lower)\n",
    "    subject_note_upper = min(np.floor(max(f0_note)),subject_note_upper)\n",
    "    \n",
    "    plt.title(aiueo[i]+' note')\n",
    "    plt.plot(f0_note)\n",
    "    plt.show()\n",
    "\n",
    "    sorted_note = np.array(sorted(i for i in f0_note if i < clip_upper+1))\n",
    "    del_note = abs(sorted_note[1:] - sorted_note[:-1])\n",
    "    \n",
    "    if (not max(del_note)<=max_del_note):\n",
    "        isPass = False\n",
    "        \n",
    "        plt.plot(sorted_note)\n",
    "        plt.title(aiueo[i]+' sorted note')\n",
    "        plt.show()\n",
    "        plt.title(aiueo[i]+' del note')\n",
    "        plt.plot(del_note)\n",
    "        plt.show()\n",
    "    print(\"del_note(<=\",max_del_note,\"):\",max(del_note),\"pass\" if max_del_note>=max(del_note) else \"fail\")\n",
    "    \n",
    "    #criteria 3:prevent noise \n",
    "    del_sp = np.mean(np.power(abs(sp[2:-1,400:]-sp[1:-2,400:]),2),axis= 1)\n",
    "    max_del_sp = max(del_sp)\n",
    "    \n",
    "#     plt.plot(del_sp)\n",
    "#     plt.show()\n",
    "    print(\"del_sp(<\",del_sp_upper,\"):\",max_del_sp)\n",
    "    if (not max_del_sp<del_sp_upper):\n",
    "        print(\"Warning: the audio file might contain noise, please check\")\n",
    "        plt.plot(del_sp)\n",
    "        plt.show()\n",
    "\n",
    "    if isPass:\n",
    "        pass_list[i] = 1\n",
    "        \n",
    "data = {'pRange':[clip_lower,clip_upper],'gender':gender}\n",
    "with open('./data/info.json', 'w') as f:\n",
    "     json.dump(data, f)\n",
    "\n",
    "print(\"your pitch range:\" ,[subject_note_lower,subject_note_upper])\n",
    "\n",
    "print(\"saved pitch range:\" ,[clip_lower,clip_upper])\n",
    "print(\"==================結果===================\")\n",
    "if sum(pass_list) == len(aiueo):\n",
    "    print(\"恭喜! 您的音檔可以使用，感謝您的配合!\")\n",
    "else:\n",
    "    print(\"您提供的音檔尚有地方須修正，煩請改進fail與錯誤的部分\")"
   ]
  },
  {
   "cell_type": "code",
   "execution_count": null,
   "metadata": {},
   "outputs": [],
   "source": []
  },
  {
   "cell_type": "markdown",
   "metadata": {},
   "source": [
    "### Synthesis test"
   ]
  },
  {
   "cell_type": "code",
   "execution_count": 4,
   "metadata": {
    "scrolled": true
   },
   "outputs": [
    {
     "name": "stdout",
     "output_type": "stream",
     "text": [
      "27 38\n",
      "data\\a\n",
      "data\\i\n",
      "data\\u\n",
      "data\\e\n",
      "data\\o\n",
      "done\n"
     ]
    }
   ],
   "source": [
    "import os\n",
    "import soundfile as sf\n",
    "import pyworld as pw\n",
    "import matplotlib.pyplot as plt\n",
    "import json\n",
    "\n",
    "aiueo = ['a','i','u','e','o']\n",
    "\n",
    "note_step=0.25\n",
    "frame_period = 10.0 # millisecond\n",
    "def get_f0_index_tbl(f0,min_note,max_note,note_step=0.25):\n",
    "    f0_note = 12*np.log2(f0/440)+49\n",
    "    out_len = int((max_note-min_note)/note_step+1)\n",
    "    note_lin =np.linspace(min_note, max_note, num=out_len)\n",
    "    idx_out = np.zeros(out_len,dtype = int)\n",
    "    for i in range(out_len):\n",
    "        idx_out[i] = np.argmin(abs(f0_note-note_lin[i]))\n",
    "    return idx_out\n",
    "\n",
    "with open('./data/info.json', 'r') as f:\n",
    "    info = json.load(f)\n",
    "    [min_note,max_note] = info['pRange']\n",
    "\n",
    "print(min_note,max_note)\n",
    "yy = np.array([0])\n",
    "for v in aiueo:\n",
    "    path = os.path.join('data',v)\n",
    "    print(path)\n",
    "    x,fs = sf.read(path+'.wav')\n",
    "    x = (x[:,0] + x[:,1])/2 \n",
    "    x = x/max(x)*0.5\n",
    "    f0, sp, ap = pw.wav2world(x, fs, frame_period =  frame_period)\n",
    "    f0 = f0[1:-1]\n",
    "    sp = sp[1:-1,:]\n",
    "    ap = ap[1:-1]\n",
    "    file_cnt = 2\n",
    "    while os.path.isfile(path+str(file_cnt)+'.wav'):\n",
    "        print(path+str(file_cnt)+'.wav')\n",
    "        x2,_ = sf.read(path+str(file_cnt)+'.wav')\n",
    "        x2 = (x2[:,0] + x2[:,1])/2 # stereo to mono\n",
    "        f02, sp2,ap2 = pw.wav2world(x2, fs, frame_period =  frame_period)    # use default options\n",
    "\n",
    "        f0 =np.concatenate((f0,f02[1:-1]), axis=0)\n",
    "        sp =np.concatenate((sp,sp2[1:-1,:]), axis=0)\n",
    "        ap = np.concatenate((ap,ap2[1:-1,:]), axis=0)\n",
    "        file_cnt +=1\n",
    "#   remove f0 detect fail frame\n",
    "    valid_idx = np.where(f0!=0)\n",
    "    f0 =  f0[valid_idx]\n",
    "    sp =  sp[valid_idx]\n",
    "    ap =  ap[valid_idx]\n",
    "    \n",
    "    \n",
    "    idx = get_f0_index_tbl(f0,min_note,max_note,note_step)  \n",
    "    sp =  sp[idx,:]\n",
    "    ap = ap[idx]\n",
    "#     plt.plot( f0[idx])\n",
    "#     plt.show()\n",
    "    \n",
    "    lin_f0 = np.linspace(min_note, max_note,num=len(idx))\n",
    "    f0 = 440*np.power(2,(lin_f0-49.0)/12.0)\n",
    "    \n",
    "#     _y = pw.synthesize(f0, sp, ap[:len(idx)], fs, frame_period = 20)\n",
    "    _y = pw.synthesize(f0, sp, ap, fs, frame_period = 20)\n",
    "    \n",
    "    yy = np.concatenate((yy,_y),axis = 0)\n",
    "sf.write('out.wav', yy, fs)\n",
    "print('done')"
   ]
  },
  {
   "cell_type": "code",
   "execution_count": 1,
   "metadata": {},
   "outputs": [
    {
     "name": "stdout",
     "output_type": "stream",
     "text": [
      "done\n"
     ]
    }
   ],
   "source": [
    "pass_list = [0,0,0,0,0]\n",
    "clip_lower,clip_upper = 0,100\n",
    "gender = 'M'\n",
    "#28 38 9 男\n",
    "#32 42 9 女\n",
    "\n",
    "import sys\n",
    "import numpy as np\n",
    "import json\n",
    "\n",
    "        \n",
    "data = {\"pRange\":[0,100],\"gender\":'M'}\n",
    "with open('config.json', 'w') as f:\n",
    "     json.dump(data, f)\n",
    "\n",
    "print('done')"
   ]
  },
  {
   "cell_type": "code",
   "execution_count": 2,
   "metadata": {},
   "outputs": [
    {
     "name": "stdout",
     "output_type": "stream",
     "text": [
      "[0, 100]\n"
     ]
    }
   ],
   "source": [
    "import json\n",
    "with open('config.json', 'r') as f:\n",
    "     data = json.load(f)\n",
    "print(data['pRange'])"
   ]
  },
  {
   "cell_type": "code",
   "execution_count": 41,
   "metadata": {},
   "outputs": [
    {
     "name": "stdout",
     "output_type": "stream",
     "text": [
      "{0, 1, 2, 3, 4, 7}\n"
     ]
    }
   ],
   "source": [
    "g = np.array([0,1,2,3,4,5,6,7])\n",
    "b = np.array([0,1,2,3,4,10,7])\n",
    "\n",
    "\n",
    "print(set(g) & set(b))"
   ]
  }
 ],
 "metadata": {
  "kernelspec": {
   "display_name": "Python 3",
   "language": "python",
   "name": "python3"
  },
  "language_info": {
   "codemirror_mode": {
    "name": "ipython",
    "version": 3
   },
   "file_extension": ".py",
   "mimetype": "text/x-python",
   "name": "python",
   "nbconvert_exporter": "python",
   "pygments_lexer": "ipython3",
   "version": "3.6.5"
  }
 },
 "nbformat": 4,
 "nbformat_minor": 2
}
