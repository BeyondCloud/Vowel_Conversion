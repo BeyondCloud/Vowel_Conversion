{
 "cells": [
  {
   "cell_type": "code",
   "execution_count": 29,
   "metadata": {},
   "outputs": [],
   "source": [
    "pass_list = [0,0,0,0,0]\n",
    "subject_note_lower = 27\n",
    "subject_note_upper = 100\n",
    "\n",
    "# pass_list = [0]"
   ]
  },
  {
   "cell_type": "markdown",
   "metadata": {},
   "source": [
    "### 常見錯誤:\n",
    "### too much error segment: please face the microphone\n"
   ]
  },
  {
   "cell_type": "code",
   "execution_count": 35,
   "metadata": {
    "scrolled": true
   },
   "outputs": [
    {
     "name": "stdout",
     "output_type": "stream",
     "text": [
      "a pass\n",
      "~~~~~~~~~~~~~~~~~~~~~~~~~~~~~~~~~\n",
      "i 分析結果:\n"
     ]
    },
    {
     "ename": "ValueError",
     "evalue": "The truth value of an array with more than one element is ambiguous. Use a.any() or a.all()",
     "output_type": "error",
     "traceback": [
      "\u001b[1;31m------------------------------------------------------------\u001b[0m",
      "\u001b[1;31mValueError\u001b[0m                 Traceback (most recent call last)",
      "\u001b[1;32m<ipython-input-35-7d6d0d3bfcee>\u001b[0m in \u001b[0;36m<module>\u001b[1;34m()\u001b[0m\n\u001b[0;32m     66\u001b[0m     \u001b[0map\u001b[0m \u001b[1;33m=\u001b[0m \u001b[0map\u001b[0m\u001b[1;33m[\u001b[0m\u001b[0midx\u001b[0m\u001b[1;33m]\u001b[0m\u001b[1;33m\u001b[0m\u001b[0m\n\u001b[0;32m     67\u001b[0m     \u001b[0mf0_note\u001b[0m \u001b[1;33m=\u001b[0m \u001b[1;36m12\u001b[0m\u001b[1;33m*\u001b[0m\u001b[0mnp\u001b[0m\u001b[1;33m.\u001b[0m\u001b[0mlog2\u001b[0m\u001b[1;33m(\u001b[0m\u001b[0mf0\u001b[0m\u001b[1;33m[\u001b[0m\u001b[1;36m1\u001b[0m\u001b[1;33m:\u001b[0m\u001b[1;33m-\u001b[0m\u001b[1;36m1\u001b[0m\u001b[1;33m]\u001b[0m\u001b[1;33m/\u001b[0m\u001b[1;36m440\u001b[0m\u001b[1;33m)\u001b[0m\u001b[1;33m+\u001b[0m\u001b[1;36m49\u001b[0m\u001b[1;33m\u001b[0m\u001b[0m\n\u001b[1;32m---> 68\u001b[1;33m     \u001b[0midx\u001b[0m \u001b[1;33m=\u001b[0m \u001b[0mnp\u001b[0m\u001b[1;33m.\u001b[0m\u001b[0mwhere\u001b[0m\u001b[1;33m(\u001b[0m\u001b[0mf0_note\u001b[0m \u001b[1;33m>=\u001b[0m \u001b[0mnote_lower\u001b[0m \u001b[1;32mand\u001b[0m \u001b[0mnote_lower\u001b[0m \u001b[1;33m<=\u001b[0m \u001b[0mnote_upper\u001b[0m\u001b[1;33m)\u001b[0m\u001b[1;33m\u001b[0m\u001b[0m\n\u001b[0m\u001b[0;32m     69\u001b[0m     \u001b[0mf0_note\u001b[0m \u001b[1;33m=\u001b[0m \u001b[0mf0_note\u001b[0m\u001b[1;33m[\u001b[0m\u001b[0midx\u001b[0m\u001b[1;33m]\u001b[0m\u001b[1;33m\u001b[0m\u001b[0m\n\u001b[0;32m     70\u001b[0m     \u001b[0msp\u001b[0m \u001b[1;33m=\u001b[0m \u001b[0msp\u001b[0m\u001b[1;33m[\u001b[0m\u001b[0midx\u001b[0m\u001b[1;33m]\u001b[0m\u001b[1;33m\u001b[0m\u001b[0m\n",
      "\u001b[1;31mValueError\u001b[0m: The truth value of an array with more than one element is ambiguous. Use a.any() or a.all()"
     ]
    }
   ],
   "source": [
    "# pass_list = [0,0,0,0,0]\n",
    "from termcolor import colored\n",
    "import sys\n",
    "import numpy as np\n",
    "import pickle\n",
    "import matplotlib.pyplot as plt\n",
    "import os.path\n",
    "\n",
    "import soundfile as sf\n",
    "# import librosa\n",
    "import pyworld as pw\n",
    "\n",
    "#28 38 9 男\n",
    "#32 42 9 女\n",
    "\n",
    "frame_period = 10.0 # millisecond\n",
    "samples_per_frame = int(np.floor(44100.0 * frame_period/1000.0))\n",
    "\n",
    "aiueo = ['a','i','u','e','o']\n",
    "isMale = 1\n",
    "if isMale:\n",
    "    note_lower,note_upper = 27,38\n",
    "else:\n",
    "    note_lower,note_upper = 32,42\n",
    "\n",
    "pitch_range_file = open(r'./data/pRange.pkl', 'wb')\n",
    "\n",
    "max_del_note = 0.35\n",
    "del_sp_upper = 0.000001  #1.7\n",
    "\n",
    "\n",
    "for i in range(len(aiueo)):\n",
    "    if pass_list[i]:\n",
    "        print(aiueo[i] , \"pass\")\n",
    "        continue\n",
    "    isPass = True\n",
    "    print(\"~~~~~~~~~~~~~~~~~~~~~~~~~~~~~~~~~\")\n",
    "    file_cnt = 2\n",
    "    wavname = 'data/'+aiueo[i]\n",
    "    if not os.path.isfile(wavname+'.wav'):\n",
    "        print(colored('錯誤:找不到音檔','red'),wavname+'.wav')\n",
    "        continue\n",
    "\n",
    "    x, fs = sf.read(wavname+'.wav')\n",
    "\n",
    "    if fs != 44100:\n",
    "        print(\"錯誤:請使用44100採樣率(sample rate:44100)\")\n",
    "        continue\n",
    "    try:\n",
    "        x = (x[:,0] + x[:,1])/2 # stereo to mono\n",
    "        x = x/max(x)\n",
    "    except:\n",
    "        print(\"錯誤:請使用雙聲道(stereo 2 channel)錄音\")\n",
    "        continue\n",
    "    num_of_frames = int(np.floor(len(x)/samples_per_frame))    \n",
    "    f0, sp, ap = pw.wav2world(x, fs, frame_period =  frame_period)    # use default options\n",
    "    inf_cnt = 0\n",
    "    if inf_cnt != 0:\n",
    "        print(wavname,'音檔中有無法分析的片段，',len(f0_note),'片段中有',inf_cnt,'個片段無法分析，請再次嘗試:fail')\n",
    "    print(aiueo[i],'分析結果:')   \n",
    "    \n",
    "    #criteria 1: max pitch ,min pitch\n",
    "    idx = np.where(f0 != 0)\n",
    "    f0 = f0[idx]\n",
    "    sp = sp[idx]\n",
    "    ap = ap[idx]\n",
    "    f0_note = 12*np.log2(f0[1:-1]/440)+49\n",
    "    idx = np.where(f0_note >= note_lower and note_lower <= note_upper)\n",
    "    f0_note = f0_note[idx]\n",
    "    sp = sp[idx]\n",
    "    ap = ap[idx]\n",
    "    \n",
    "#     f0_note = 12*np.log2(f0[1:-1]/440)+49\n",
    "    min_his = min(np.histogram(f0_note, bins=13)[0])\n",
    "    print(\"最低音限制(<\",note_lower,\"):\",round(min(f0_note),3),\"pass\" if min(f0_note)<note_lower else \"fail\")\n",
    "    print(\"最高音限制(>\",note_upper,\"):\",round(max(f0_note),3),\"pass\" if max(f0_note)>note_upper else \"fail\")\n",
    "    if (not max(f0_note)>note_upper) or ((not min(f0_note)<note_lower)):\n",
    "        isPass = False \n",
    "    \n",
    "\n",
    "    #criteria 2:minimun delta note (sorted) \n",
    "    \n",
    "    #if there exist 2 file with same vowel, detect its f0 as well\n",
    "    while os.path.isfile(wavname+str(file_cnt)+'.wav'):\n",
    "        print('include',str(file_cnt)+'.wav' )\n",
    "        x2,_ = sf.read(wavname+str(file_cnt)+'.wav')\n",
    "        x2 = (x2[:,0] + x2[:,1])/2 # stereo to mono\n",
    "        wavname = 'data/'+aiueo[i]+str(file_cnt)\n",
    "        f02, sp2, ap2 = pw.wav2world(x2, fs, frame_period =  frame_period)    # use default options\n",
    "        idx = np.where(f02 != 0)\n",
    "        f02 = f02[idx]\n",
    "        sp2 = sp2[idx]\n",
    "        ap2 = ap2[idx]\n",
    "        f0_note2 = 12*np.log2(f0[1:-1]/440)+49\n",
    "        idx = np.where(f0_note2 >= note_lower and f0_note2 <= note_upper)\n",
    "        f0_note2 = f0_note2[idx]\n",
    "        sp = sp[idx]\n",
    "        ap = ap[idx]\n",
    "        f0_note =np.concatenate((f0_note,12*np.log2(f02[1:-1]/440)+49), axis=0)\n",
    "        file_cnt +=1\n",
    "        \n",
    "    subject_note_lower = max(np.ceil(min(f0_note)),subject_note_lower)\n",
    "    subject_note_upper = min(np.ceil(max(f0_note)),subject_note_upper)\n",
    "    \n",
    "    plt.ylim(ymin=note_lower-5,ymax=note_upper+5) \n",
    "    plt.title('note')\n",
    "    plt.plot(f0_note)\n",
    "    plt.show()\n",
    "\n",
    "    sorted_note = np.array(sorted(i for i in f0_note if i < note_upper+1))\n",
    "    del_note = abs(sorted_note[1:] - sorted_note[:-1])\n",
    "    \n",
    "    print(\"del_note(<=\",max_del_note,\"):\",max(del_note),\"pass\" if max_del_note>=max(del_note) else \"fail\")\n",
    "    if (not max(del_note)<=max_del_note):\n",
    "        isPass = False\n",
    "        \n",
    "        plt.plot(sorted_note)\n",
    "        plt.title('sorted note')\n",
    "        plt.show()\n",
    "        plt.title('del note')\n",
    "        plt.plot(del_note)\n",
    "        plt.show()\n",
    "\n",
    "\n",
    "    #criteria 3:prevent noise \n",
    "    del_sp = np.mean(np.power(abs(sp[2:-1,400:]-sp[1:-2,400:]),2),axis= 1)\n",
    "    max_del_sp = max(del_sp)\n",
    "    print(\"del_sp(<\",del_sp_upper,\"):\",max_del_sp)\n",
    "    if (not max_del_sp<del_sp_upper):\n",
    "        print(\"Warning: the audio file might contain noise, please check\")\n",
    "        plt.plot(del_sp)\n",
    "        plt.show()\n",
    "        \n",
    "#     plt.hist(f0_note, bins = 13,range =(note_lower,note_upper),  facecolor='green', alpha=0.5)\n",
    "#     plt.show()\n",
    "\n",
    "#     note_range = np.ptp(f0_note)\n",
    "    if isPass:\n",
    "        pass_list[i] = 1\n",
    "pickle.dump([subject_note_lower,subject_note_upper], pitch_range_file)\n",
    "pitch_range_file.close()\n",
    "print(\"pitch range:\" ,[subject_note_lower,subject_note_upper])\n",
    "print(\"==================結果===================\")\n",
    "if sum(pass_list) == len(aiueo):\n",
    "    print(\"恭喜! 您的音檔可以使用，感謝您的配合!\")\n",
    "else:\n",
    "    print(\"您提供的音檔尚有地方須修正，煩請改進fail與錯誤的部分\")\n",
    "    "
   ]
  },
  {
   "cell_type": "code",
   "execution_count": 16,
   "metadata": {},
   "outputs": [
    {
     "name": "stdout",
     "output_type": "stream",
     "text": [
      "(1, 276, 1025)\n"
     ]
    }
   ],
   "source": [
    "print(sp.shape)"
   ]
  },
  {
   "cell_type": "code",
   "execution_count": 27,
   "metadata": {},
   "outputs": [
    {
     "name": "stdout",
     "output_type": "stream",
     "text": [
      "[26.0, 38.0]\n"
     ]
    }
   ],
   "source": [
    "foo = pickle.load(open(\"data/pRange.pkl\", \"rb\"))\n",
    "print(foo)"
   ]
  },
  {
   "cell_type": "code",
   "execution_count": 41,
   "metadata": {},
   "outputs": [
    {
     "name": "stdout",
     "output_type": "stream",
     "text": [
      "{0, 1, 2, 3, 4, 7}\n"
     ]
    }
   ],
   "source": [
    "g = np.array([0,1,2,3,4,5,6,7])\n",
    "b = np.array([0,1,2,3,4,10,7])\n",
    "\n",
    "\n",
    "print(set(g) & set(b))"
   ]
  }
 ],
 "metadata": {
  "kernelspec": {
   "display_name": "Python 3",
   "language": "python",
   "name": "python3"
  },
  "language_info": {
   "codemirror_mode": {
    "name": "ipython",
    "version": 3
   },
   "file_extension": ".py",
   "mimetype": "text/x-python",
   "name": "python",
   "nbconvert_exporter": "python",
   "pygments_lexer": "ipython3",
   "version": "3.6.5"
  }
 },
 "nbformat": 4,
 "nbformat_minor": 2
}
