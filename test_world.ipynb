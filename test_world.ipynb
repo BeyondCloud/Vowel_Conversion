{
 "cells": [
  {
   "cell_type": "code",
   "execution_count": 1,
   "metadata": {},
   "outputs": [
    {
     "name": "stderr",
     "output_type": "stream",
     "text": [
      "E:\\Anaconda\\lib\\site-packages\\scipy\\io\\wavfile.py:273: WavFileWarning: Chunk (non-data) not understood, skipping it.\n",
      "  WavFileWarning)\n"
     ]
    }
   ],
   "source": [
    "from scipy.io.wavfile import read as wavread\n",
    "fs, x_int16 = wavread('my_a.wav')\n",
    "x = x_int16 / (2 ** 15 - 1)"
   ]
  },
  {
   "cell_type": "code",
   "execution_count": 16,
   "metadata": {
    "collapsed": true
   },
   "outputs": [],
   "source": [
    "import pyworld as pw\n",
    "_f0, t = pw.dio(x, fs)    # raw pitch extractor\n",
    "f0 = pw.stonemask(x, _f0, t, fs)  # pitch refinement\n",
    "sp = pw.cheaptrick(x, f0, t, fs)  # extract smoothed spectrogram\n",
    "ap = pw.d4c(x, f0, t, fs)         # extract aperiodicity\n",
    "y = pw.synthesize(f0, sp, ap, fs)"
   ]
  },
  {
   "cell_type": "code",
   "execution_count": 74,
   "metadata": {
    "scrolled": true
   },
   "outputs": [
    {
     "name": "stdout",
     "output_type": "stream",
     "text": [
      "Please check \"test\" directory for output files\n"
     ]
    }
   ],
   "source": [
    "from __future__ import division, print_function\n",
    "\n",
    "import os\n",
    "from shutil import rmtree\n",
    "import argparse\n",
    "\n",
    "import numpy as np\n",
    "\n",
    "import matplotlib      # Remove this line if you don't need them\n",
    "import matplotlib.pyplot as plt\n",
    "from mpl_toolkits.axes_grid1 import make_axes_locatable\n",
    "\n",
    "import soundfile as sf\n",
    "# import librosa\n",
    "import pyworld as pw\n",
    "\n",
    "\n",
    "EPSILON = 1e-8\n",
    "wavname = 'my_a'\n",
    "x, fs = sf.read(wavname+'.wav')\n",
    "\n",
    "def savefig(figlist, title,log=True):\n",
    "    #h = 10\n",
    "    n = len(figlist)\n",
    "    # peek into instances\n",
    "    f = figlist[0]\n",
    "    if len(f.shape) == 1:\n",
    "        plt.figure()\n",
    "        for i, f in enumerate(figlist):\n",
    "            plt.subplot(n, 1, i+1)\n",
    "            if len(f.shape) == 1:\n",
    "                plt.plot(f)\n",
    "                plt.xlim([0, len(f)])\n",
    "    elif len(f.shape) == 2:\n",
    "        plt.figure(figsize = (16,10))\n",
    "        for i, f in enumerate(figlist):\n",
    "            \n",
    "            plt.subplot(n, 1, i+1, label='linear line')\n",
    "            plt.title(title[i])\n",
    "            plt.xlabel('frame')\n",
    "            plt.ylabel('Hz')\n",
    "            plt.yticks(np.arange(0,513,100),np.round(fs/1024.0*np.arange(0,513,50),1))\n",
    "            if log:\n",
    "                x = np.log(f + EPSILON)\n",
    "            else:\n",
    "                x = f + EPSILON\n",
    "            plt.imshow(x.T, origin='lower', interpolation='none', aspect='auto')\n",
    "            plt.colorbar()\n",
    "            \n",
    "    else:\n",
    "        raise ValueError('Input dimension must < 3.')\n",
    "    plt.tight_layout() #prevent plot overlapping\n",
    "    return plt\n",
    "\n",
    "    \n",
    "    # plt.close()\n",
    "\n",
    "\n",
    "frame_period = 10.0 # millisecond\n",
    "\n",
    "\n",
    "\n",
    "# 1. A convient way\n",
    "f0, sp, ap = pw.wav2world(x, fs, frame_period =  frame_period)    # use default options\n",
    "y = pw.synthesize(f0, sp, ap, fs, pw.default_frame_period)\n",
    "\n",
    "_f0, t = pw.dio(x, fs, f0_floor=50.0, f0_ceil=600.0,\n",
    "                channels_in_octave=2,\n",
    "                frame_period=frame_period)\n",
    "_sp = pw.cheaptrick(x, _f0, t, fs)\n",
    "_sp = _sp[1,:]*np.ones((_sp.shape[0],1)) \n",
    "# _sp[:,30:] = 0.0000001  #This cannot be zero\n",
    "\n",
    "# for i in range(len(_sp)):\n",
    "#     for j in range(_sp.shape[1]):\n",
    "#         if _sp[i,j]<0.0005:\n",
    "#             _sp[i,j] =  0.0000001\n",
    "\n",
    "\n",
    "_ap = pw.d4c(x, _f0, t, fs)\n",
    "# for i in range(len(f0)):\n",
    "#     _f0[i] = _f0[i]*(1.0+2.0*i/len(f0)) \n",
    "\n",
    "_y = pw.synthesize(_f0, _sp, _ap, fs, frame_period)\n",
    "sf.write('test/'+wavname+'.wav', _y, fs)\n",
    "\n",
    "syn_sp = pw.cheaptrick(_y, _f0, t, fs)\n",
    "# Comparison\n",
    "plt = savefig( [ sp[:,:520],_sp[:,:520],syn_sp[:,:520]],['original sp','flattened sp','resynthesized sp'])\n",
    "plt.savefig(\"test/sp_\"+wavname)\n",
    "\n",
    "print('Please check \"test\" directory for output files')\n",
    "\n"
   ]
  },
  {
   "cell_type": "code",
   "execution_count": 51,
   "metadata": {},
   "outputs": [
    {
     "data": {
      "text/plain": [
       "(201, 1025)"
      ]
     },
     "execution_count": 51,
     "metadata": {},
     "output_type": "execute_result"
    }
   ],
   "source": [
    "_sp.shape"
   ]
  },
  {
   "cell_type": "code",
   "execution_count": 43,
   "metadata": {},
   "outputs": [
    {
     "name": "stdout",
     "output_type": "stream",
     "text": [
      "(3, 2)\n",
      "(3, 2)\n",
      "[[1 2]\n",
      " [3 4]\n",
      " [5 6]]\n",
      "[[3. 4.]\n",
      " [3. 4.]\n",
      " [3. 4.]]\n"
     ]
    }
   ],
   "source": [
    "a = np.array([[1,2],[3,4],[5,6]])\n",
    "print(a.shape)\n",
    "b= a[1,:]*np.ones((a.shape[0],1)) \n",
    "print(b.shape)\n",
    "print(a)\n",
    "print(b)\n",
    "\n"
   ]
  },
  {
   "cell_type": "code",
   "execution_count": null,
   "metadata": {
    "collapsed": true
   },
   "outputs": [],
   "source": [
    "a[1,:]\n"
   ]
  }
 ],
 "metadata": {
  "kernelspec": {
   "display_name": "Python 3",
   "language": "python",
   "name": "python3"
  },
  "language_info": {
   "codemirror_mode": {
    "name": "ipython",
    "version": 3
   },
   "file_extension": ".py",
   "mimetype": "text/x-python",
   "name": "python",
   "nbconvert_exporter": "python",
   "pygments_lexer": "ipython3",
   "version": "3.6.1"
  }
 },
 "nbformat": 4,
 "nbformat_minor": 2
}
