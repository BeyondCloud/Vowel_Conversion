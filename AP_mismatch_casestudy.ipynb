{
 "cells": [
  {
   "cell_type": "code",
   "execution_count": 7,
   "metadata": {},
   "outputs": [
    {
     "name": "stdout",
     "output_type": "stream",
     "text": [
      "25 37\n",
      "data\\a\n",
      "data\\a2.wav\n",
      "data\\i\n",
      "data\\i2.wav\n",
      "data\\u\n",
      "data\\e\n",
      "data\\o\n",
      "data\\o2.wav\n",
      "done\n"
     ]
    }
   ],
   "source": [
    "import os\n",
    "import soundfile as sf\n",
    "import pyworld as pw\n",
    "import matplotlib.pyplot as plt\n",
    "import pickle\n",
    "import numpy as np\n",
    "aiueo = ['a','i','u','e','o']\n",
    "\n",
    "note_step=0.25\n",
    "frame_period = 10.0 # millisecond\n",
    "def get_f0_index_tbl(f0,min_note,max_note,note_step=0.25):\n",
    "    f0_note = 12*np.log2(f0/440)+49\n",
    "    out_len = int((max_note-min_note)/note_step+1)\n",
    "    note_lin =np.linspace(min_note, max_note, num=out_len)\n",
    "    idx_out = np.zeros(out_len,dtype = int)\n",
    "    for i in range(out_len):\n",
    "        idx_out[i] = np.argmin(abs(f0_note-note_lin[i]))\n",
    "    return idx_out\n",
    "\n",
    "rangePath = os.path.join('data',\"pRange.pkl\")\n",
    "[min_note,max_note] = pickle.load(open(rangePath, \"rb\"))\n",
    "print(min_note,max_note)\n",
    "yy = np.array([0])\n",
    "for v in aiueo:\n",
    "    path = os.path.join('data',v)\n",
    "    print(path)\n",
    "    x,fs = sf.read(path+'.wav')\n",
    "    x = (x[:,0] + x[:,1])/2 \n",
    "    x = x/max(x)*0.5\n",
    "    f0, sp, ap = pw.wav2world(x, fs, frame_period =  frame_period)\n",
    "    f0 = f0[1:-1]\n",
    "    sp = sp[1:-1,:]\n",
    "    ap = ap[1:-1]\n",
    "    file_cnt = 2\n",
    "    while os.path.isfile(path+str(file_cnt)+'.wav'):\n",
    "        print(path+str(file_cnt)+'.wav')\n",
    "        x2,_ = sf.read(path+str(file_cnt)+'.wav')\n",
    "        x2 = (x2[:,0] + x2[:,1])/2 # stereo to mono\n",
    "        f02, sp2,ap2 = pw.wav2world(x2, fs, frame_period =  frame_period)    # use default options\n",
    "        f0 =np.concatenate((f0,f02[1:-1]), axis=0)\n",
    "        sp =np.concatenate((sp,sp2), axis=0)\n",
    "        file_cnt +=1\n",
    "#   remove f0 detect fail frame\n",
    "    valid_idx = np.where(f0!=0)\n",
    "    f0 =  f0[valid_idx]\n",
    "    sp =  sp[valid_idx]\n",
    "\n",
    "    \n",
    "    idx = get_f0_index_tbl(f0,min_note,max_note,note_step)  \n",
    "    sp =  sp[idx,:]\n",
    "    \n",
    "    lin_f0 = np.linspace(min_note, max_note,num=len(idx))\n",
    "    f0 = 440*np.power(2,(lin_f0-49.0)/12.0)\n",
    "    \n",
    "    _y = pw.synthesize(f0, sp, ap[:len(idx)], fs, frame_period = 20)\n",
    "    \n",
    "    yy = np.concatenate((yy,_y),axis = 0)\n",
    "sf.write('out.wav', yy, fs)\n",
    "print('done')"
   ]
  }
 ],
 "metadata": {
  "kernelspec": {
   "display_name": "Python 3",
   "language": "python",
   "name": "python3"
  },
  "language_info": {
   "codemirror_mode": {
    "name": "ipython",
    "version": 3
   },
   "file_extension": ".py",
   "mimetype": "text/x-python",
   "name": "python",
   "nbconvert_exporter": "python",
   "pygments_lexer": "ipython3",
   "version": "3.6.5"
  }
 },
 "nbformat": 4,
 "nbformat_minor": 2
}
