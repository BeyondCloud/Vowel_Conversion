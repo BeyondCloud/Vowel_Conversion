{
 "cells": [
  {
   "cell_type": "code",
   "execution_count": 90,
   "metadata": {},
   "outputs": [
    {
     "name": "stdout",
     "output_type": "stream",
     "text": [
      "{'sp': [1, 2, 3], 'f0': [4, 5, 6]}\n"
     ]
    }
   ],
   "source": [
    "import pickle\n",
    "ss = {\"sp\" : [1, 2, 3], \"f0\" : [4,5,6] }\n",
    "dd = { \"v\" : [ss]*5}\n",
    "# d = { \"val\" : dd, \"key\" : ss }\n",
    "print(dd['v'][0])\n",
    "# afile = open(r'd.pkl', 'wb')\n",
    "\n",
    "# pickle.dump(d, afile)\n",
    "# afile.close()"
   ]
  },
  {
   "cell_type": "code",
   "execution_count": 26,
   "metadata": {},
   "outputs": [
    {
     "name": "stdout",
     "output_type": "stream",
     "text": [
      "[[6.53763706e-01 6.58781104e-01 6.69004692e-01 ... 2.09629691e-10\n",
      "  2.15898147e-10 2.17976607e-10]]\n"
     ]
    }
   ],
   "source": [
    "\n",
    "foo = pickle.load(open(\"./train_data/d.pkl\", \"rb\"))\n",
    "idx = np.where(foo[1][\"note\"] == 31.)\n",
    "print(foo[1][\"sp\"][idx])\n"
   ]
  },
  {
   "cell_type": "code",
   "execution_count": 3,
   "metadata": {
    "scrolled": true
   },
   "outputs": [
    {
     "name": "stdout",
     "output_type": "stream",
     "text": [
      "26 39\n",
      "gliss_dataset\\Abun\\a\n",
      "gliss_dataset\\Abun\\a2.wav\n",
      "(53,)\n",
      "gliss_dataset\\Abun\\i\n",
      "(53,)\n",
      "gliss_dataset\\Abun\\u\n",
      "(53,)\n",
      "gliss_dataset\\Abun\\e\n"
     ]
    },
    {
     "ename": "KeyboardInterrupt",
     "evalue": "",
     "output_type": "error",
     "traceback": [
      "\u001b[1;31m--------------------------------------------------\u001b[0m",
      "\u001b[1;31mKeyboardInterrupt\u001b[0mTraceback (most recent call last)",
      "\u001b[1;32m<ipython-input-3-a51e2f48722d>\u001b[0m in \u001b[0;36m<module>\u001b[1;34m()\u001b[0m\n\u001b[0;32m     37\u001b[0m         \u001b[0mx\u001b[0m \u001b[1;33m=\u001b[0m \u001b[1;33m(\u001b[0m\u001b[0mx\u001b[0m\u001b[1;33m[\u001b[0m\u001b[1;33m:\u001b[0m\u001b[1;33m,\u001b[0m\u001b[1;36m0\u001b[0m\u001b[1;33m]\u001b[0m \u001b[1;33m+\u001b[0m \u001b[0mx\u001b[0m\u001b[1;33m[\u001b[0m\u001b[1;33m:\u001b[0m\u001b[1;33m,\u001b[0m\u001b[1;36m1\u001b[0m\u001b[1;33m]\u001b[0m\u001b[1;33m)\u001b[0m\u001b[1;33m/\u001b[0m\u001b[1;36m2\u001b[0m\u001b[1;33m\u001b[0m\u001b[0m\n\u001b[0;32m     38\u001b[0m         \u001b[0mx\u001b[0m \u001b[1;33m=\u001b[0m \u001b[0mx\u001b[0m\u001b[1;33m/\u001b[0m\u001b[0mmax\u001b[0m\u001b[1;33m(\u001b[0m\u001b[0mx\u001b[0m\u001b[1;33m)\u001b[0m\u001b[1;33m*\u001b[0m\u001b[1;36m0.5\u001b[0m\u001b[1;33m\u001b[0m\u001b[0m\n\u001b[1;32m---> 39\u001b[1;33m         \u001b[0mf0\u001b[0m\u001b[1;33m,\u001b[0m \u001b[0msp\u001b[0m\u001b[1;33m,\u001b[0m \u001b[0map\u001b[0m \u001b[1;33m=\u001b[0m \u001b[0mpw\u001b[0m\u001b[1;33m.\u001b[0m\u001b[0mwav2world\u001b[0m\u001b[1;33m(\u001b[0m\u001b[0mx\u001b[0m\u001b[1;33m,\u001b[0m \u001b[0mfs\u001b[0m\u001b[1;33m,\u001b[0m \u001b[0mframe_period\u001b[0m \u001b[1;33m=\u001b[0m  \u001b[0mframe_period\u001b[0m\u001b[1;33m)\u001b[0m\u001b[1;33m\u001b[0m\u001b[0m\n\u001b[0m\u001b[0;32m     40\u001b[0m         \u001b[0mf0\u001b[0m \u001b[1;33m=\u001b[0m \u001b[0mf0\u001b[0m\u001b[1;33m[\u001b[0m\u001b[1;36m1\u001b[0m\u001b[1;33m:\u001b[0m\u001b[1;33m-\u001b[0m\u001b[1;36m1\u001b[0m\u001b[1;33m]\u001b[0m\u001b[1;33m\u001b[0m\u001b[0m\n\u001b[0;32m     41\u001b[0m         \u001b[0msp\u001b[0m \u001b[1;33m=\u001b[0m \u001b[0msp\u001b[0m\u001b[1;33m[\u001b[0m\u001b[1;36m1\u001b[0m\u001b[1;33m:\u001b[0m\u001b[1;33m-\u001b[0m\u001b[1;36m1\u001b[0m\u001b[1;33m,\u001b[0m\u001b[1;33m:\u001b[0m\u001b[1;33m]\u001b[0m\u001b[1;33m\u001b[0m\u001b[0m\n",
      "\u001b[1;31mKeyboardInterrupt\u001b[0m: "
     ]
    }
   ],
   "source": [
    "import os\n",
    "import json\n",
    "import pickle\n",
    "import soundfile as sf\n",
    "import pyworld as pw\n",
    "import matplotlib.pyplot as plt\n",
    "import numpy as np\n",
    "\n",
    "aiueo = ['a','i','u','e','o']\n",
    "\n",
    "all_data = []\n",
    "note_step=0.25\n",
    "frame_period = 10.0 # millisecond\n",
    "wav_dir = 'gliss_dataset'\n",
    "def get_f0_index_tbl(f0,min_note,max_note,note_step=0.25):\n",
    "    f0_note = 12*np.log2(f0/440)+49\n",
    "    out_len = int((max_note-min_note)/note_step+1)\n",
    "    note_lin =np.linspace(min_note, max_note, num=out_len)\n",
    "    idx_out = np.zeros(out_len,dtype = int)\n",
    "    for i in range(out_len):\n",
    "        idx_out[i] = np.argmin(abs(f0_note-note_lin[i]))\n",
    "    return idx_out\n",
    "    \n",
    "for who in os.listdir(wav_dir):\n",
    "\n",
    "    rangePath = os.path.join(wav_dir,who,\"info.json\")\n",
    "    with open(rangePath, 'r') as f:\n",
    "        info = json.load(f)\n",
    "        [min_note,max_note] = info['pRange']\n",
    "\n",
    "    print(min_note,max_note)\n",
    "    key_label_dic = {}\n",
    "    for v in aiueo:\n",
    "        path = os.path.join(wav_dir,who,v)\n",
    "        print(path)\n",
    "        x,fs = sf.read(path+'.wav')\n",
    "        x = (x[:,0] + x[:,1])/2 \n",
    "        x = x/max(x)*0.5\n",
    "        f0, sp, ap = pw.wav2world(x, fs, frame_period =  frame_period)\n",
    "        f0 = f0[1:-1]\n",
    "        sp = sp[1:-1,:]\n",
    "        file_cnt = 2\n",
    "        while os.path.isfile(path+str(file_cnt)+'.wav'):\n",
    "            print(path+str(file_cnt)+'.wav')\n",
    "            x2,_ = sf.read(path+str(file_cnt)+'.wav')\n",
    "            x2 = (x2[:,0] + x2[:,1])/2 # stereo to mono\n",
    "            x2 = x2/max(x2)*0.5\n",
    "            f02, sp2,_ = pw.wav2world(x2, fs, frame_period =  frame_period)    # use default options\n",
    "\n",
    "            f0_note =np.concatenate((f0,f02[1:-1]), axis=0)\n",
    "            sp =np.concatenate((sp,sp2[1:-1,:]), axis=0)\n",
    "\n",
    "            file_cnt +=1\n",
    "        valid_idx = np.where(f0!=0)\n",
    "        f0 =  f0[valid_idx]\n",
    "        sp =  sp[valid_idx]\n",
    "        ap =  ap[valid_idx]\n",
    "        idx = get_f0_index_tbl(f0,min_note,max_note,note_step)  \n",
    "#             f0 =  f0[idx]\n",
    "        sp =  sp[idx,:]\n",
    "        ap = ap[idx]\n",
    "        lin_note = np.linspace(min_note, max_note,num=len(idx))\n",
    "        lin_f0 = 440*np.power(2,(lin_note-49)/12)\n",
    "        _y = pw.synthesize(lin_f0, sp, ap, fs, frame_period)\n",
    "        f02, sp2, ap2 = pw.wav2world(_y, fs, frame_period =  frame_period)\n",
    "        key_label = {\"sp\" :sp2,\"ap\" :ap2, \"note\" :lin_note}\n",
    "        key_label_dic[v] = key_label\n",
    "    all_data.append(key_label_dic)\n",
    "\n",
    "\n",
    "\n",
    "#             f0_note = 12*np.log2(f0/440)+49\n",
    "#             plt.plot(f0)\n",
    "#             plt.show()\n",
    "\n",
    "#         sorted_note = np.array(sorted(i for i in f0_note if i < note_upper+1))\n",
    "#         del_note = abs(sorted_note[1:] - sorted_note[:-1])\n",
    "outfile = open(r'train_data/d.pkl', 'wb')\n",
    "pickle.dump(all_data, outfile)\n",
    "print('file write to train_data/d.pkl')\n",
    "outfile.close()          \n",
    "            "
   ]
  },
  {
   "cell_type": "code",
   "execution_count": 156,
   "metadata": {},
   "outputs": [
    {
     "name": "stdout",
     "output_type": "stream",
     "text": [
      "[164.81377846 167.21105007 169.64319079 172.11070782 174.61411572\n",
      " 177.15393651 179.73069986 182.34494308 184.99721136 187.68805776\n",
      " 190.41804342 193.18773764 195.99771799 198.84857045 201.74088951\n",
      " 204.67527831 207.65234879 210.67272175 213.73702705 216.8459037\n",
      " 220.         223.19997369 226.44649206 229.74023213 233.08188076\n",
      " 236.47213478 239.91170119 243.40129724 246.94165063 250.53349965\n",
      " 254.17759331 257.87469154 261.6255653  265.43099678 269.29177953\n",
      " 273.20871866 277.18263098 281.21434518 285.30470202 289.45455447\n",
      " 293.66476792 297.93622033 302.26980244 306.66641796 311.12698372\n",
      " 315.65242991 320.24370023 324.90175211 329.62755691 334.42210013\n",
      " 339.28638159 344.22141565 349.22823143 354.30787303 359.46139971\n",
      " 364.68988617 369.99442271 375.37611551 380.83608684 386.37547528\n",
      " 391.99543598]\n"
     ]
    }
   ],
   "source": [
    "print(lin_f0)"
   ]
  },
  {
   "cell_type": "code",
   "execution_count": 143,
   "metadata": {},
   "outputs": [
    {
     "name": "stdout",
     "output_type": "stream",
     "text": [
      "file write to train_data/d.pkl\n"
     ]
    }
   ],
   "source": [
    "outfile = open(r'train_data/d.pkl', 'wb')\n",
    "pickle.dump(all_data, outfile)\n",
    "print('file write to train_data/d.pkl')\n",
    "outfile.close()          \n",
    "            "
   ]
  },
  {
   "cell_type": "code",
   "execution_count": 144,
   "metadata": {},
   "outputs": [
    {
     "name": "stdout",
     "output_type": "stream",
     "text": [
      "[[3.67630541e-04 3.67765260e-04 3.68199341e-04 ... 3.03416174e-12\n",
      "  3.03356299e-12 3.03335575e-12]\n",
      " [7.21955118e-01 7.27038243e-01 7.39160177e-01 ... 2.47102588e-10\n",
      "  2.47184292e-10 2.47266410e-10]\n",
      " [1.68060795e+00 1.69669017e+00 1.73689298e+00 ... 2.30595534e-10\n",
      "  2.29999099e-10 2.29782188e-10]\n",
      " ...\n",
      " [4.68460549e+00 4.69353304e+00 4.71885431e+00 ... 5.87362730e-09\n",
      "  5.89037604e-09 5.89536631e-09]\n",
      " [4.65167749e+00 4.66174276e+00 4.69055038e+00 ... 2.14214553e-08\n",
      "  2.13710111e-08 2.13558182e-08]\n",
      " [6.43532706e-01 6.44139405e-01 6.45967557e-01 ... 8.92702925e-09\n",
      "  8.89206450e-09 8.87913843e-09]]\n"
     ]
    }
   ],
   "source": [
    "print(all_data[0]['f0'])"
   ]
  },
  {
   "cell_type": "code",
   "execution_count": null,
   "metadata": {
    "collapsed": true
   },
   "outputs": [],
   "source": [
    "from termcolor import colored\n",
    "import sys\n",
    "import numpy as np\n",
    "import os.path\n",
    "import soundfile as sf\n",
    "# import librosa\n",
    "import pyworld as pw\n",
    "\n",
    "#28 38 9 男\n",
    "#28 38 9 女\n",
    "\n",
    "frame_period = 10.0 # millisecond\n",
    "\n",
    "aiueo = ['a','i','u','e','o']\n",
    "for i in range(len(aiueo)):\n",
    "    wavname = 'data/'+aiueo[i]+'.wav'\n",
    "    if not os.path.isfile(wavname):\n",
    "        print(colored('錯誤:找不到音檔','red'),wavname)\n",
    "        continue\n",
    "\n",
    "    x, fs = sf.read(wavname)\n",
    "    x = (x[:,0] + x[:,1])/2 # stereo to mono\n",
    "\n",
    "    num_of_frames = int(np.floor(len(x)/samples_per_frame))    \n",
    "    f0, sp, ap = pw.wav2world(x, fs, frame_period =  frame_period)    # use default options\n",
    "\n",
    "\n",
    "#   pitch judgement\n",
    "    f0_note = 12*np.log2(f0[1:-1]/440)+49\n",
    "    min_his = min(np.histogram(f0_note, bins=13)[0])"
   ]
  },
  {
   "cell_type": "code",
   "execution_count": 132,
   "metadata": {
    "collapsed": true
   },
   "outputs": [],
   "source": [
    "x, fs = sf.read('a.wav')\n",
    "\n",
    "try:\n",
    "    x = (x[:,0] + x[:,1])/2\n",
    "    x = x/max(x)*0.3\n",
    "except:\n",
    "    pass\n",
    "frame_period = 10\n",
    "f0, sp, ap = pw.wav2world(x, fs, frame_period =  frame_period)    # use default options\n",
    "f0 = f0[1:]\n",
    "sp = sp[1:]\n",
    "ap = ap[1:]"
   ]
  },
  {
   "cell_type": "code",
   "execution_count": 133,
   "metadata": {
    "collapsed": true
   },
   "outputs": [],
   "source": [
    "#return f0 index array with len (max_note-min_note)/note_step+1\n",
    "\n",
    "def get_f0_index_tbl(f0,min_note,max_note,note_step=0.25):\n",
    "    f0_note = 12*np.log2(f0/440)+49\n",
    "    out_len = int((max_note-min_note)/note_step+1)\n",
    "    note_lin =np.linspace(min_note, max_note, num=out_len)\n",
    "    idx_out = np.zeros(out_len,dtype = int)\n",
    "    for i in range(out_len):\n",
    "        idx_out[i] = np.argmin(abs(f0_note-note_lin[i]))\n",
    "    return idx_out\n",
    "    \n",
    "\n",
    "tbl = get_f0_index_tbl(f0,28,38)\n",
    "    \n",
    "        \n",
    "    "
   ]
  },
  {
   "cell_type": "code",
   "execution_count": 135,
   "metadata": {},
   "outputs": [
    {
     "name": "stdout",
     "output_type": "stream",
     "text": [
      "[ 40  44  46  50  52  55  57  65  70  73  77  86  95  98 102 113 117 121\n",
      " 125 129 135 144 149 158 165 175 183 192 196 201 215 222 233 238 245 253\n",
      " 257 262 289 301 320]\n"
     ]
    }
   ],
   "source": [
    "print(tbl)"
   ]
  },
  {
   "cell_type": "code",
   "execution_count": 100,
   "metadata": {},
   "outputs": [
    {
     "name": "stdout",
     "output_type": "stream",
     "text": [
      "[2 0 1 3] [2.2 3.3 4.4 7.7]\n"
     ]
    }
   ],
   "source": [
    "test = [3.3,4.4,2.2,7.7]\n",
    "idx = np.argsort(test)\n",
    "val = np.sort(test)\n",
    "\n",
    "print(idx,val)\n",
    "    "
   ]
  },
  {
   "cell_type": "code",
   "execution_count": 120,
   "metadata": {},
   "outputs": [
    {
     "name": "stdout",
     "output_type": "stream",
     "text": [
      "[0, 1, 2, 3, 4, 5, 6, 7, 8, 9]\n"
     ]
    }
   ],
   "source": [
    "tmp = []\n",
    "for i in range(10):\n",
    "    tmp.append(i)\n",
    "print(tmp)"
   ]
  }
 ],
 "metadata": {
  "kernelspec": {
   "display_name": "Python 3",
   "language": "python",
   "name": "python3"
  },
  "language_info": {
   "codemirror_mode": {
    "name": "ipython",
    "version": 3
   },
   "file_extension": ".py",
   "mimetype": "text/x-python",
   "name": "python",
   "nbconvert_exporter": "python",
   "pygments_lexer": "ipython3",
   "version": "3.6.5"
  }
 },
 "nbformat": 4,
 "nbformat_minor": 2
}
