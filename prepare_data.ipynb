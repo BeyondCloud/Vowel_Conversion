{
 "cells": [
  {
   "cell_type": "code",
   "execution_count": 90,
   "metadata": {},
   "outputs": [
    {
     "name": "stdout",
     "output_type": "stream",
     "text": [
      "{'sp': [1, 2, 3], 'f0': [4, 5, 6]}\n"
     ]
    }
   ],
   "source": [
    "import pickle\n",
    "ss = {\"sp\" : [1, 2, 3], \"f0\" : [4,5,6] }\n",
    "dd = { \"v\" : [ss]*5}\n",
    "# d = { \"val\" : dd, \"key\" : ss }\n",
    "print(dd['v'][0])\n",
    "# afile = open(r'd.pkl', 'wb')\n",
    "\n",
    "# pickle.dump(d, afile)\n",
    "# afile.close()"
   ]
  },
  {
   "cell_type": "code",
   "execution_count": 19,
   "metadata": {},
   "outputs": [
    {
     "name": "stdout",
     "output_type": "stream",
     "text": [
      "[1, 2, 3]\n",
      "[1, 2, 3]\n"
     ]
    }
   ],
   "source": [
    "print(d['val']['sp'])\n",
    "foo = pickle.load(open(\"d.pkl\", \"rb\"))\n",
    "print(foo['val']['sp'])\n"
   ]
  },
  {
   "cell_type": "code",
   "execution_count": 85,
   "metadata": {},
   "outputs": [
    {
     "name": "stdout",
     "output_type": "stream",
     "text": [
      "data\\LISA\\a\n",
      "(336,) (336, 1025)\n",
      "(336,) (1, 336, 1025)\n",
      "data\\LISA\\i\n",
      "(558,) (558, 1025)\n",
      "(558,) (1, 558, 1025)\n",
      "data\\LISA\\u\n",
      "(545,) (545, 1025)\n",
      "(545,) (1, 545, 1025)\n",
      "data\\LISA\\e\n",
      "(418,) (418, 1025)\n",
      "(418,) (1, 418, 1025)\n",
      "data\\LISA\\o\n",
      "(447,) (447, 1025)\n",
      "(447,) (1, 447, 1025)\n",
      "data\\士峰\\a\n",
      "(1064,) (1064, 1025)\n",
      "(1064,) (1, 1064, 1025)\n",
      "data\\士峰\\i\n",
      "(848,) (848, 1025)\n",
      "(848,) (1, 848, 1025)\n",
      "data\\士峰\\u\n",
      "(628,) (628, 1025)\n",
      "(628,) (1, 628, 1025)\n",
      "data\\士峰\\e\n",
      "(772,) (772, 1025)\n",
      "(772,) (1, 772, 1025)\n",
      "data\\士峰\\o\n",
      "(884,) (884, 1025)\n",
      "(884,) (1, 884, 1025)\n",
      "data\\子齊\\a\n",
      "(355,) (355, 1025)\n",
      "(355,) (1, 355, 1025)\n",
      "data\\子齊\\i\n",
      "(291,) (291, 1025)\n",
      "(291,) (1, 291, 1025)\n",
      "data\\子齊\\u\n",
      "(308,) (308, 1025)\n",
      "(308,) (1, 308, 1025)\n",
      "data\\子齊\\e\n",
      "(358,) (358, 1025)\n",
      "(358,) (1, 358, 1025)\n",
      "data\\子齊\\o\n",
      "(291,) (291, 1025)\n",
      "(291,) (1, 291, 1025)\n",
      "data\\我\\a\n",
      "(317,) (317, 1025)\n",
      "(317,) (1, 317, 1025)\n",
      "data\\我\\i\n",
      "data\\我\\i2.wav\n",
      "(314,) (822, 1025)\n",
      "(314,) (1, 314, 1025)\n",
      "data\\我\\u\n",
      "(369,) (369, 1025)\n",
      "(369,) (1, 369, 1025)\n",
      "data\\我\\e\n",
      "(440,) (440, 1025)\n",
      "(440,) (1, 440, 1025)\n",
      "data\\我\\o\n",
      "(378,) (378, 1025)\n",
      "(378,) (1, 378, 1025)\n",
      "data\\漢文\\a\n",
      "(505,) (505, 1025)\n",
      "(505,) (1, 505, 1025)\n",
      "data\\漢文\\i\n",
      "(362,) (362, 1025)\n",
      "(362,) (1, 362, 1025)\n",
      "data\\漢文\\u\n",
      "(237,) (237, 1025)\n",
      "(237,) (1, 237, 1025)\n",
      "data\\漢文\\e\n",
      "(260,) (260, 1025)\n",
      "(260,) (1, 260, 1025)\n",
      "data\\漢文\\o\n",
      "(335,) (335, 1025)\n",
      "(335,) (1, 335, 1025)\n",
      "data\\長霖\\a\n",
      "(397,) (397, 1025)\n",
      "(397,) (1, 397, 1025)\n",
      "data\\長霖\\i\n",
      "(421,) (421, 1025)\n",
      "(421,) (1, 421, 1025)\n",
      "data\\長霖\\u\n",
      "(367,) (367, 1025)\n",
      "(367,) (1, 367, 1025)\n",
      "data\\長霖\\e\n",
      "(490,) (490, 1025)\n",
      "(490,) (1, 490, 1025)\n",
      "data\\長霖\\o\n",
      "(465,) (465, 1025)\n",
      "(465,) (1, 465, 1025)\n"
     ]
    }
   ],
   "source": [
    "import os\n",
    "import soundfile as sf\n",
    "import pyworld as pw\n",
    "import matplotlib.pyplot as plt\n",
    "\n",
    "aiueo = ['a','i','u','e','o']\n",
    "frame_period = 10.0 # millisecond\n",
    "for x in os.walk('data'):\n",
    "\n",
    "    for who in x[1]:\n",
    "        for v in aiueo:\n",
    "            path = os.path.join('data',who,v)\n",
    "            print(path)\n",
    "            x,fs = sf.read(path+'.wav')\n",
    "            x = (x[:,0] + x[:,1])/2 \n",
    "            x = x/max(x)*0.5\n",
    "            f0, sp, _ = pw.wav2world(x, fs, frame_period =  frame_period)\n",
    "            f0 = f0[1:-1]\n",
    "            sp = sp[1:-1,:]\n",
    "            file_cnt = 2\n",
    "            while os.path.isfile(path+str(file_cnt)+'.wav'):\n",
    "                print(path+str(file_cnt)+'.wav')\n",
    "                x2,_ = sf.read(path+str(file_cnt)+'.wav')\n",
    "                x2 = (x2[:,0] + x2[:,1])/2 # stereo to mono\n",
    "                f02, sp2,_ = pw.wav2world(x2, fs, frame_period =  frame_period)    # use default options\n",
    "                \n",
    "                f0_note =np.concatenate((f0_note,f02[1:-1]), axis=0)\n",
    "                sp =np.concatenate((sp,sp2), axis=0)\n",
    "                \n",
    "                file_cnt +=1\n",
    "#             print(f0.shape,sp.shape)\n",
    "            valid_idx = np.where(f0!=0)\n",
    "            f0 =  f0[valid_idx]\n",
    "            sp =  sp[valid_idx,:]\n",
    "            \n",
    "            f0_note = 12*np.log2(f0/440)+49\n",
    "#             plt.plot(f0)\n",
    "#             plt.show()\n",
    "            \n",
    "            print(f0.shape,sp.shape)\n",
    "    #         sorted_note = np.array(sorted(i for i in f0_note if i < note_upper+1))\n",
    "    #         del_note = abs(sorted_note[1:] - sorted_note[:-1])\n",
    "       "
   ]
  },
  {
   "cell_type": "code",
   "execution_count": null,
   "metadata": {
    "collapsed": true
   },
   "outputs": [],
   "source": [
    "from termcolor import colored\n",
    "import sys\n",
    "import numpy as np\n",
    "import os.path\n",
    "import soundfile as sf\n",
    "# import librosa\n",
    "import pyworld as pw\n",
    "\n",
    "#28 38 9 男\n",
    "#28 38 9 女\n",
    "\n",
    "frame_period = 10.0 # millisecond\n",
    "\n",
    "aiueo = ['a','i','u','e','o']\n",
    "for i in range(len(aiueo)):\n",
    "    wavname = 'data/'+aiueo[i]+'.wav'\n",
    "    if not os.path.isfile(wavname):\n",
    "        print(colored('錯誤:找不到音檔','red'),wavname)\n",
    "        continue\n",
    "\n",
    "    x, fs = sf.read(wavname)\n",
    "    x = (x[:,0] + x[:,1])/2 # stereo to mono\n",
    "\n",
    "    num_of_frames = int(np.floor(len(x)/samples_per_frame))    \n",
    "    f0, sp, ap = pw.wav2world(x, fs, frame_period =  frame_period)    # use default options\n",
    "\n",
    "\n",
    "#   pitch judgement\n",
    "    f0_note = 12*np.log2(f0[1:-1]/440)+49\n",
    "    min_his = min(np.histogram(f0_note, bins=13)[0])"
   ]
  },
  {
   "cell_type": "code",
   "execution_count": 101,
   "metadata": {
    "collapsed": true
   },
   "outputs": [],
   "source": [
    "x, fs = sf.read('a.wav')\n",
    "\n",
    "try:\n",
    "    x = (x[:,0] + x[:,1])/2\n",
    "    x = x/max(x)*0.3\n",
    "except:\n",
    "    pass\n",
    "frame_period = 10\n",
    "f0, sp, ap = pw.wav2world(x, fs, frame_period =  frame_period)    # use default options\n",
    "f0 = f0[1:]\n",
    "sp = sp[1:]\n",
    "ap = ap[1:]"
   ]
  },
  {
   "cell_type": "code",
   "execution_count": 103,
   "metadata": {},
   "outputs": [],
   "source": [
    "#return f0 index array with len (max_note-min_note)/note_step+1\n",
    "\n",
    "def get_f0_index_tbl(f0,min_note,max_note,note_step=0.25):\n",
    "    f0_note = 12*np.log2(f0/440)+49\n",
    "    out_len = int((max_note-min_note)/note_step+1)\n",
    "    note_lin =np.linspace(min_note, max_note, num=out_len)\n",
    "    idx_out = np.zeros(out_len)\n",
    "    for i in range(out_len):\n",
    "        idx_out[i] = np.argmin(abs(f0_note-note_lin[i]))\n",
    "    return idx_out\n",
    "        \n",
    "\n",
    "tbl = get_f0_index_tbl(f0,28,38)\n",
    "    \n",
    "        \n",
    "    "
   ]
  },
  {
   "cell_type": "code",
   "execution_count": 104,
   "metadata": {},
   "outputs": [
    {
     "name": "stdout",
     "output_type": "stream",
     "text": [
      "[ 40.  44.  46.  50.  52.  55.  57.  65.  70.  73.  77.  86.  95.  98.\n",
      " 102. 113. 117. 121. 125. 129. 135. 144. 149. 158. 165. 175. 183. 192.\n",
      " 196. 201. 215. 222. 233. 238. 245. 253. 257. 262. 289. 301. 320.]\n"
     ]
    }
   ],
   "source": [
    "print(tbl)"
   ]
  },
  {
   "cell_type": "code",
   "execution_count": 100,
   "metadata": {},
   "outputs": [
    {
     "name": "stdout",
     "output_type": "stream",
     "text": [
      "[2 0 1 3] [2.2 3.3 4.4 7.7]\n"
     ]
    }
   ],
   "source": [
    "test = [3.3,4.4,2.2,7.7]\n",
    "idx = np.argsort(test)\n",
    "val = np.sort(test)\n",
    "\n",
    "print(idx,val)\n",
    "    "
   ]
  }
 ],
 "metadata": {
  "kernelspec": {
   "display_name": "Python 3",
   "language": "python",
   "name": "python3"
  },
  "language_info": {
   "codemirror_mode": {
    "name": "ipython",
    "version": 3
   },
   "file_extension": ".py",
   "mimetype": "text/x-python",
   "name": "python",
   "nbconvert_exporter": "python",
   "pygments_lexer": "ipython3",
   "version": "3.6.1"
  }
 },
 "nbformat": 4,
 "nbformat_minor": 2
}
