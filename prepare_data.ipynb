{
 "cells": [
  {
   "cell_type": "code",
   "execution_count": 18,
   "metadata": {},
   "outputs": [],
   "source": [
    "import pickle\n",
    "ss = { \"sp\" : [1, 2, 3], \"f0\" : [4,5,6] }\n",
    "dd = { \"sp\" : [1, 2, 3], \"f0\" : [4,5,6] }\n",
    "d = { \"val\" : dd, \"key\" : ss }\n",
    "afile = open(r'd.pkl', 'wb')\n",
    "\n",
    "pickle.dump(d, afile)\n",
    "afile.close()"
   ]
  },
  {
   "cell_type": "code",
   "execution_count": 19,
   "metadata": {},
   "outputs": [
    {
     "name": "stdout",
     "output_type": "stream",
     "text": [
      "[1, 2, 3]\n",
      "[1, 2, 3]\n"
     ]
    }
   ],
   "source": [
    "print(d['val']['sp'])\n",
    "foo = pickle.load(open(\"d.pkl\", \"rb\"))\n",
    "print(foo['val']['sp'])\n"
   ]
  }
 ],
 "metadata": {
  "kernelspec": {
   "display_name": "Python 3",
   "language": "python",
   "name": "python3"
  },
  "language_info": {
   "codemirror_mode": {
    "name": "ipython",
    "version": 3
   },
   "file_extension": ".py",
   "mimetype": "text/x-python",
   "name": "python",
   "nbconvert_exporter": "python",
   "pygments_lexer": "ipython3",
   "version": "3.6.1"
  }
 },
 "nbformat": 4,
 "nbformat_minor": 2
}
