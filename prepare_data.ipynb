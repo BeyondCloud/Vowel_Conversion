{
 "cells": [
  {
   "cell_type": "code",
   "execution_count": 90,
   "metadata": {},
   "outputs": [
    {
     "name": "stdout",
     "output_type": "stream",
     "text": [
      "{'sp': [1, 2, 3], 'f0': [4, 5, 6]}\n"
     ]
    }
   ],
   "source": [
    "import pickle\n",
    "ss = {\"sp\" : [1, 2, 3], \"f0\" : [4,5,6] }\n",
    "dd = { \"v\" : [ss]*5}\n",
    "# d = { \"val\" : dd, \"key\" : ss }\n",
    "print(dd['v'][0])\n",
    "# afile = open(r'd.pkl', 'wb')\n",
    "\n",
    "# pickle.dump(d, afile)\n",
    "# afile.close()"
   ]
  },
  {
   "cell_type": "code",
   "execution_count": 19,
   "metadata": {},
   "outputs": [
    {
     "name": "stdout",
     "output_type": "stream",
     "text": [
      "[1, 2, 3]\n",
      "[1, 2, 3]\n"
     ]
    }
   ],
   "source": [
    "print(d['val']['sp'])\n",
    "foo = pickle.load(open(\"d.pkl\", \"rb\"))\n",
    "print(foo['val']['sp'])\n"
   ]
  },
  {
   "cell_type": "code",
   "execution_count": 146,
   "metadata": {
    "scrolled": true
   },
   "outputs": [
    {
     "name": "stdout",
     "output_type": "stream",
     "text": [
      "32.0 47.0\n",
      "data\\LISA\\a\n",
      "data\\LISA\\i\n",
      "data\\LISA\\u\n",
      "data\\LISA\\e\n",
      "data\\LISA\\o\n",
      "27.0 39.0\n",
      "data\\士峰\\a\n",
      "data\\士峰\\i\n",
      "data\\士峰\\u\n",
      "data\\士峰\\e\n",
      "data\\士峰\\o\n",
      "28.0 39.0\n",
      "data\\子齊\\a\n",
      "data\\子齊\\i\n",
      "data\\子齊\\u\n",
      "data\\子齊\\e\n",
      "data\\子齊\\o\n",
      "28.0 41.0\n",
      "data\\我\\a\n",
      "data\\我\\i\n",
      "data\\我\\i2.wav\n",
      "data\\我\\u\n",
      "data\\我\\e\n",
      "data\\我\\o\n",
      "27.0 39.0\n",
      "data\\漢文\\a\n",
      "data\\漢文\\i\n",
      "data\\漢文\\u\n",
      "data\\漢文\\e\n",
      "data\\漢文\\o\n",
      "28.0 39.0\n",
      "data\\長霖\\a\n",
      "data\\長霖\\i\n",
      "data\\長霖\\u\n",
      "data\\長霖\\e\n",
      "data\\長霖\\o\n",
      "file write to train_data/d.pkl\n"
     ]
    }
   ],
   "source": [
    "import os\n",
    "import soundfile as sf\n",
    "import pyworld as pw\n",
    "import matplotlib.pyplot as plt\n",
    "\n",
    "aiueo = ['a','i','u','e','o']\n",
    "\n",
    "all_data = []\n",
    "note_step=0.25\n",
    "frame_period = 10.0 # millisecond\n",
    "def get_f0_index_tbl(f0,min_note,max_note,note_step=0.25):\n",
    "    f0_note = 12*np.log2(f0/440)+49\n",
    "    out_len = int((max_note-min_note)/note_step+1)\n",
    "    note_lin =np.linspace(min_note, max_note, num=out_len)\n",
    "    idx_out = np.zeros(out_len,dtype = int)\n",
    "    for i in range(out_len):\n",
    "        idx_out[i] = np.argmin(abs(f0_note-note_lin[i]))\n",
    "    return idx_out\n",
    "    \n",
    "for x in os.walk('data'):\n",
    "\n",
    "    for who in x[1]:\n",
    "        rangePath = os.path.join('data',who,\"pRange.pkl\")\n",
    "        [min_note,max_note] = pickle.load(open(rangePath, \"rb\"))\n",
    "        print(min_note,max_note)\n",
    "        for v in aiueo:\n",
    "            path = os.path.join('data',who,v)\n",
    "            print(path)\n",
    "            x,fs = sf.read(path+'.wav')\n",
    "            x = (x[:,0] + x[:,1])/2 \n",
    "            x = x/max(x)*0.5\n",
    "            f0, sp, ap = pw.wav2world(x, fs, frame_period =  frame_period)\n",
    "            f0 = f0[1:-1]\n",
    "            sp = sp[1:-1,:]\n",
    "            file_cnt = 2\n",
    "            while os.path.isfile(path+str(file_cnt)+'.wav'):\n",
    "                print(path+str(file_cnt)+'.wav')\n",
    "                x2,_ = sf.read(path+str(file_cnt)+'.wav')\n",
    "                x2 = (x2[:,0] + x2[:,1])/2 # stereo to mono\n",
    "                f02, sp2,_ = pw.wav2world(x2, fs, frame_period =  frame_period)    # use default options\n",
    "                \n",
    "                f0_note =np.concatenate((f0_note,f02[1:-1]), axis=0)\n",
    "                sp =np.concatenate((sp,sp2), axis=0)\n",
    "                \n",
    "                file_cnt +=1\n",
    "            valid_idx = np.where(f0!=0)\n",
    "            f0 =  f0[valid_idx]\n",
    "            sp =  sp[valid_idx]\n",
    "            idx = get_f0_index_tbl(f0,min_note,max_note,note_step)  \n",
    "#             f0 =  f0[idx]\n",
    "            sp =  sp[idx,:]\n",
    "            lin_f0 = np.linspace(min_note, max_note,num=len(idx))\n",
    "            _y = pw.synthesize(lin_f0, sp, ap[:len(idx)], fs, frame_period)\n",
    "            f02, sp2,_ = pw.wav2world(_y, fs, frame_period =  frame_period)\n",
    "            key_label = {\"sp\" : f02, \"f0\" :sp2}\n",
    "            all_data.append(key_label)\n",
    "            \n",
    "\n",
    "            \n",
    "#             f0_note = 12*np.log2(f0/440)+49\n",
    "#             plt.plot(f0)\n",
    "#             plt.show()\n",
    "            \n",
    "    #         sorted_note = np.array(sorted(i for i in f0_note if i < note_upper+1))\n",
    "    #         del_note = abs(sorted_note[1:] - sorted_note[:-1])\n",
    "outfile = open(r'train_data/d.pkl', 'wb')\n",
    "pickle.dump(all_data, outfile)\n",
    "print('file write to train_data/d.pkl')\n",
    "outfile.close()          \n",
    "            "
   ]
  },
  {
   "cell_type": "code",
   "execution_count": 143,
   "metadata": {},
   "outputs": [
    {
     "name": "stdout",
     "output_type": "stream",
     "text": [
      "file write to train_data/d.pkl\n"
     ]
    }
   ],
   "source": [
    "outfile = open(r'train_data/d.pkl', 'wb')\n",
    "pickle.dump(all_data, outfile)\n",
    "print('file write to train_data/d.pkl')\n",
    "outfile.close()          \n",
    "            "
   ]
  },
  {
   "cell_type": "code",
   "execution_count": 144,
   "metadata": {},
   "outputs": [
    {
     "name": "stdout",
     "output_type": "stream",
     "text": [
      "[[3.67630541e-04 3.67765260e-04 3.68199341e-04 ... 3.03416174e-12\n",
      "  3.03356299e-12 3.03335575e-12]\n",
      " [7.21955118e-01 7.27038243e-01 7.39160177e-01 ... 2.47102588e-10\n",
      "  2.47184292e-10 2.47266410e-10]\n",
      " [1.68060795e+00 1.69669017e+00 1.73689298e+00 ... 2.30595534e-10\n",
      "  2.29999099e-10 2.29782188e-10]\n",
      " ...\n",
      " [4.68460549e+00 4.69353304e+00 4.71885431e+00 ... 5.87362730e-09\n",
      "  5.89037604e-09 5.89536631e-09]\n",
      " [4.65167749e+00 4.66174276e+00 4.69055038e+00 ... 2.14214553e-08\n",
      "  2.13710111e-08 2.13558182e-08]\n",
      " [6.43532706e-01 6.44139405e-01 6.45967557e-01 ... 8.92702925e-09\n",
      "  8.89206450e-09 8.87913843e-09]]\n"
     ]
    }
   ],
   "source": [
    "print(all_data[0]['f0'])"
   ]
  },
  {
   "cell_type": "code",
   "execution_count": null,
   "metadata": {
    "collapsed": true
   },
   "outputs": [],
   "source": [
    "from termcolor import colored\n",
    "import sys\n",
    "import numpy as np\n",
    "import os.path\n",
    "import soundfile as sf\n",
    "# import librosa\n",
    "import pyworld as pw\n",
    "\n",
    "#28 38 9 男\n",
    "#28 38 9 女\n",
    "\n",
    "frame_period = 10.0 # millisecond\n",
    "\n",
    "aiueo = ['a','i','u','e','o']\n",
    "for i in range(len(aiueo)):\n",
    "    wavname = 'data/'+aiueo[i]+'.wav'\n",
    "    if not os.path.isfile(wavname):\n",
    "        print(colored('錯誤:找不到音檔','red'),wavname)\n",
    "        continue\n",
    "\n",
    "    x, fs = sf.read(wavname)\n",
    "    x = (x[:,0] + x[:,1])/2 # stereo to mono\n",
    "\n",
    "    num_of_frames = int(np.floor(len(x)/samples_per_frame))    \n",
    "    f0, sp, ap = pw.wav2world(x, fs, frame_period =  frame_period)    # use default options\n",
    "\n",
    "\n",
    "#   pitch judgement\n",
    "    f0_note = 12*np.log2(f0[1:-1]/440)+49\n",
    "    min_his = min(np.histogram(f0_note, bins=13)[0])"
   ]
  },
  {
   "cell_type": "code",
   "execution_count": 132,
   "metadata": {
    "collapsed": true
   },
   "outputs": [],
   "source": [
    "x, fs = sf.read('a.wav')\n",
    "\n",
    "try:\n",
    "    x = (x[:,0] + x[:,1])/2\n",
    "    x = x/max(x)*0.3\n",
    "except:\n",
    "    pass\n",
    "frame_period = 10\n",
    "f0, sp, ap = pw.wav2world(x, fs, frame_period =  frame_period)    # use default options\n",
    "f0 = f0[1:]\n",
    "sp = sp[1:]\n",
    "ap = ap[1:]"
   ]
  },
  {
   "cell_type": "code",
   "execution_count": 133,
   "metadata": {},
   "outputs": [],
   "source": [
    "#return f0 index array with len (max_note-min_note)/note_step+1\n",
    "\n",
    "def get_f0_index_tbl(f0,min_note,max_note,note_step=0.25):\n",
    "    f0_note = 12*np.log2(f0/440)+49\n",
    "    out_len = int((max_note-min_note)/note_step+1)\n",
    "    note_lin =np.linspace(min_note, max_note, num=out_len)\n",
    "    idx_out = np.zeros(out_len,dtype = int)\n",
    "    for i in range(out_len):\n",
    "        idx_out[i] = np.argmin(abs(f0_note-note_lin[i]))\n",
    "    return idx_out\n",
    "    \n",
    "\n",
    "tbl = get_f0_index_tbl(f0,28,38)\n",
    "    \n",
    "        \n",
    "    "
   ]
  },
  {
   "cell_type": "code",
   "execution_count": 135,
   "metadata": {},
   "outputs": [
    {
     "name": "stdout",
     "output_type": "stream",
     "text": [
      "[ 40  44  46  50  52  55  57  65  70  73  77  86  95  98 102 113 117 121\n",
      " 125 129 135 144 149 158 165 175 183 192 196 201 215 222 233 238 245 253\n",
      " 257 262 289 301 320]\n"
     ]
    }
   ],
   "source": [
    "print(tbl)"
   ]
  },
  {
   "cell_type": "code",
   "execution_count": 100,
   "metadata": {},
   "outputs": [
    {
     "name": "stdout",
     "output_type": "stream",
     "text": [
      "[2 0 1 3] [2.2 3.3 4.4 7.7]\n"
     ]
    }
   ],
   "source": [
    "test = [3.3,4.4,2.2,7.7]\n",
    "idx = np.argsort(test)\n",
    "val = np.sort(test)\n",
    "\n",
    "print(idx,val)\n",
    "    "
   ]
  },
  {
   "cell_type": "code",
   "execution_count": 120,
   "metadata": {},
   "outputs": [
    {
     "name": "stdout",
     "output_type": "stream",
     "text": [
      "[0, 1, 2, 3, 4, 5, 6, 7, 8, 9]\n"
     ]
    }
   ],
   "source": [
    "tmp = []\n",
    "for i in range(10):\n",
    "    tmp.append(i)\n",
    "print(tmp)"
   ]
  }
 ],
 "metadata": {
  "kernelspec": {
   "display_name": "Python 3",
   "language": "python",
   "name": "python3"
  },
  "language_info": {
   "codemirror_mode": {
    "name": "ipython",
    "version": 3
   },
   "file_extension": ".py",
   "mimetype": "text/x-python",
   "name": "python",
   "nbconvert_exporter": "python",
   "pygments_lexer": "ipython3",
   "version": "3.6.1"
  }
 },
 "nbformat": 4,
 "nbformat_minor": 2
}
