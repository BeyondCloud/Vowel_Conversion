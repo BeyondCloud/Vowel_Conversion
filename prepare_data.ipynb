{
 "cells": [
  {
   "cell_type": "code",
   "execution_count": 18,
   "metadata": {},
   "outputs": [],
   "source": [
    "import pickle\n",
    "ss = { \"sp\" : [1, 2, 3], \"f0\" : [4,5,6] }\n",
    "dd = { \"sp\" : [1, 2, 3], \"f0\" : [4,5,6] }\n",
    "d = { \"val\" : dd, \"key\" : ss }\n",
    "afile = open(r'd.pkl', 'wb')\n",
    "\n",
    "pickle.dump(d, afile)\n",
    "afile.close()"
   ]
  },
  {
   "cell_type": "code",
   "execution_count": 19,
   "metadata": {},
   "outputs": [
    {
     "name": "stdout",
     "output_type": "stream",
     "text": [
      "[1, 2, 3]\n",
      "[1, 2, 3]\n"
     ]
    }
   ],
   "source": [
    "print(d['val']['sp'])\n",
    "foo = pickle.load(open(\"d.pkl\", \"rb\"))\n",
    "print(foo['val']['sp'])\n"
   ]
  },
  {
   "cell_type": "code",
   "execution_count": 36,
   "metadata": {},
   "outputs": [
    {
     "name": "stdout",
     "output_type": "stream",
     "text": [
      "data\\a.wav\n",
      "data\\i.wav\n",
      "data\\u.wav\n",
      "data\\e.wav\n",
      "data\\o.wav\n",
      "data\\我\\a.wav\n",
      "data\\我\\i.wav\n",
      "data\\我\\u.wav\n",
      "data\\我\\e.wav\n",
      "data\\我\\o.wav\n",
      "data\\漢文\\a.wav\n",
      "data\\漢文\\i.wav\n",
      "data\\漢文\\u.wav\n",
      "data\\漢文\\e.wav\n",
      "data\\漢文\\o.wav\n"
     ]
    }
   ],
   "source": [
    "import os\n",
    "aiueo = ['a','i','u','e','o']\n",
    "for x in os.walk('data'):\n",
    "    for v in aiueo:\n",
    "        path = os.path.join('data',x[0][5:],v+'.wav')\n",
    "        print(path)\n"
   ]
  },
  {
   "cell_type": "code",
   "execution_count": null,
   "metadata": {
    "collapsed": true
   },
   "outputs": [],
   "source": [
    "from termcolor import colored\n",
    "import sys\n",
    "import numpy as np\n",
    "import os.path\n",
    "import soundfile as sf\n",
    "# import librosa\n",
    "import pyworld as pw\n",
    "\n",
    "#28 38 9 男\n",
    "#28 38 9 女\n",
    "\n",
    "frame_period = 10.0 # millisecond\n",
    "\n",
    "aiueo = ['a','i','u','e','o']\n",
    "for i in range(len(aiueo)):\n",
    "    wavname = 'data/'+aiueo[i]+'.wav'\n",
    "    if not os.path.isfile(wavname):\n",
    "        print(colored('錯誤:找不到音檔','red'),wavname)\n",
    "        continue\n",
    "\n",
    "    x, fs = sf.read(wavname)\n",
    "    x = (x[:,0] + x[:,1])/2 # stereo to mono\n",
    "\n",
    "    num_of_frames = int(np.floor(len(x)/samples_per_frame))    \n",
    "    f0, sp, ap = pw.wav2world(x, fs, frame_period =  frame_period)    # use default options\n",
    "\n",
    "\n",
    "#   pitch judgement\n",
    "    f0_note = 12*np.log2(f0[1:-1]/440)+49\n",
    "    min_his = min(np.histogram(f0_note, bins=13)[0])"
   ]
  }
 ],
 "metadata": {
  "kernelspec": {
   "display_name": "Python 3",
   "language": "python",
   "name": "python3"
  },
  "language_info": {
   "codemirror_mode": {
    "name": "ipython",
    "version": 3
   },
   "file_extension": ".py",
   "mimetype": "text/x-python",
   "name": "python",
   "nbconvert_exporter": "python",
   "pygments_lexer": "ipython3",
   "version": "3.6.1"
  }
 },
 "nbformat": 4,
 "nbformat_minor": 2
}
