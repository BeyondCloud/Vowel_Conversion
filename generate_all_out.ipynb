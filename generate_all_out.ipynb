{
 "cells": [
  {
   "cell_type": "code",
   "execution_count": 1,
   "metadata": {},
   "outputs": [
    {
     "name": "stdout",
     "output_type": "stream",
     "text": [
      "26 39\n",
      "gliss_dataset\\Abun\\a\n",
      "gliss_dataset\\Abun\\a2.wav\n",
      "gliss_dataset\\Abun\\i\n",
      "gliss_dataset\\Abun\\u\n"
     ]
    },
    {
     "ename": "KeyboardInterrupt",
     "evalue": "",
     "output_type": "error",
     "traceback": [
      "\u001b[1;31m------------------------------------------------------------\u001b[0m",
      "\u001b[1;31mKeyboardInterrupt\u001b[0m          Traceback (most recent call last)",
      "\u001b[1;32m<ipython-input-1-60c2f71159de>\u001b[0m in \u001b[0;36m<module>\u001b[1;34m()\u001b[0m\n\u001b[0;32m     39\u001b[0m         \u001b[0mx\u001b[0m \u001b[1;33m=\u001b[0m \u001b[1;33m(\u001b[0m\u001b[0mx\u001b[0m\u001b[1;33m[\u001b[0m\u001b[1;33m:\u001b[0m\u001b[1;33m,\u001b[0m\u001b[1;36m0\u001b[0m\u001b[1;33m]\u001b[0m \u001b[1;33m+\u001b[0m \u001b[0mx\u001b[0m\u001b[1;33m[\u001b[0m\u001b[1;33m:\u001b[0m\u001b[1;33m,\u001b[0m\u001b[1;36m1\u001b[0m\u001b[1;33m]\u001b[0m\u001b[1;33m)\u001b[0m\u001b[1;33m/\u001b[0m\u001b[1;36m2\u001b[0m\u001b[1;33m\u001b[0m\u001b[0m\n\u001b[0;32m     40\u001b[0m         \u001b[0mx\u001b[0m \u001b[1;33m=\u001b[0m \u001b[0mx\u001b[0m\u001b[1;33m/\u001b[0m\u001b[0mmax\u001b[0m\u001b[1;33m(\u001b[0m\u001b[0mx\u001b[0m\u001b[1;33m)\u001b[0m\u001b[1;33m*\u001b[0m\u001b[1;36m0.5\u001b[0m\u001b[1;33m\u001b[0m\u001b[0m\n\u001b[1;32m---> 41\u001b[1;33m         \u001b[0mf0\u001b[0m\u001b[1;33m,\u001b[0m \u001b[0msp\u001b[0m\u001b[1;33m,\u001b[0m \u001b[0map\u001b[0m \u001b[1;33m=\u001b[0m \u001b[0mpw\u001b[0m\u001b[1;33m.\u001b[0m\u001b[0mwav2world\u001b[0m\u001b[1;33m(\u001b[0m\u001b[0mx\u001b[0m\u001b[1;33m,\u001b[0m \u001b[0mfs\u001b[0m\u001b[1;33m,\u001b[0m \u001b[0mframe_period\u001b[0m \u001b[1;33m=\u001b[0m  \u001b[0mframe_period\u001b[0m\u001b[1;33m)\u001b[0m\u001b[1;33m\u001b[0m\u001b[0m\n\u001b[0m\u001b[0;32m     42\u001b[0m         \u001b[0mf0\u001b[0m \u001b[1;33m=\u001b[0m \u001b[0mf0\u001b[0m\u001b[1;33m[\u001b[0m\u001b[1;36m1\u001b[0m\u001b[1;33m:\u001b[0m\u001b[1;33m-\u001b[0m\u001b[1;36m1\u001b[0m\u001b[1;33m]\u001b[0m\u001b[1;33m\u001b[0m\u001b[0m\n\u001b[0;32m     43\u001b[0m         \u001b[0msp\u001b[0m \u001b[1;33m=\u001b[0m \u001b[0msp\u001b[0m\u001b[1;33m[\u001b[0m\u001b[1;36m1\u001b[0m\u001b[1;33m:\u001b[0m\u001b[1;33m-\u001b[0m\u001b[1;36m1\u001b[0m\u001b[1;33m,\u001b[0m\u001b[1;33m:\u001b[0m\u001b[1;33m]\u001b[0m\u001b[1;33m\u001b[0m\u001b[0m\n",
      "\u001b[1;31mKeyboardInterrupt\u001b[0m: "
     ]
    }
   ],
   "source": [
    "import os\n",
    "import json\n",
    "import soundfile as sf\n",
    "import pyworld as pw\n",
    "import matplotlib.pyplot as plt\n",
    "import numpy as np\n",
    "import soundfile as sf\n",
    "aiueo = ['a','i','u','e','o']\n",
    "\n",
    "all_data = []\n",
    "wav_dir = 'gliss_dataset'\n",
    "out_dir = 'all_out'\n",
    "note_step=0.25\n",
    "frame_period = 10.0 # millisecond\n",
    "out_dir = 'all_out'\n",
    "def get_f0_index_tbl(f0,min_note,max_note,note_step=0.25):\n",
    "    f0_note = 12*np.log2(f0/440)+49\n",
    "    out_len = int((max_note-min_note)/note_step+1)\n",
    "    note_lin =np.linspace(min_note, max_note, num=out_len)\n",
    "    idx_out = np.zeros(out_len,dtype = int)\n",
    "    for i in range(out_len):\n",
    "        idx_out[i] = np.argmin(abs(f0_note-note_lin[i]))\n",
    "    return idx_out\n",
    "\n",
    "if not os.path.exists(out_dir):\n",
    "    os.makedirs(out_dir)\n",
    "\n",
    "for who in os.listdir(wav_dir):  \n",
    "    rangePath = os.path.join(wav_dir,who,\"info.json\")\n",
    "    with open(rangePath, 'r') as f:\n",
    "        info = json.load(f)\n",
    "        [min_note,max_note] = info['pRange']\n",
    "    print(min_note,max_note)\n",
    "    yy = np.array([0])\n",
    "    for v in aiueo:\n",
    "        path = os.path.join(wav_dir,who,v)\n",
    "        print(path)\n",
    "        x,fs = sf.read(path+'.wav')\n",
    "        x = (x[:,0] + x[:,1])/2 \n",
    "        x = x/max(x)*0.5\n",
    "        f0, sp, ap = pw.wav2world(x, fs, frame_period =  frame_period)\n",
    "        f0 = f0[1:-1]\n",
    "        sp = sp[1:-1,:]\n",
    "        ap = ap[1:-1]\n",
    "        file_cnt = 2\n",
    "        while os.path.isfile(path+str(file_cnt)+'.wav'):\n",
    "            print(path+str(file_cnt)+'.wav')\n",
    "            x2,_ = sf.read(path+str(file_cnt)+'.wav')\n",
    "            x2 = (x2[:,0] + x2[:,1])/2 # stereo to mono\n",
    "            f02, sp2,ap2 = pw.wav2world(x2, fs, frame_period =  frame_period)    # use default options\n",
    "\n",
    "            f0 =np.concatenate((f0,f02[1:-1]), axis=0)\n",
    "            sp =np.concatenate((sp,sp2), axis=0)\n",
    "            ap = np.concatenate((ap,ap2), axis=0)\n",
    "            file_cnt +=1\n",
    "    #   remove f0 detect fail frame\n",
    "        valid_idx = np.where(f0!=0)\n",
    "        f0 =  f0[valid_idx]\n",
    "        sp =  sp[valid_idx]\n",
    "        ap =  ap[valid_idx]\n",
    "\n",
    "\n",
    "        idx = get_f0_index_tbl(f0,min_note,max_note,note_step)  \n",
    "        sp =  sp[idx,:]\n",
    "        ap = ap[idx]\n",
    "\n",
    "        lin_f0 = np.linspace(min_note, max_note,num=len(idx))\n",
    "        f0 = 440*np.power(2,(lin_f0-49.0)/12.0)\n",
    "    #     _y = pw.synthesize(f0, sp, ap[:len(idx)], fs, frame_period = 20)\n",
    "        _y = pw.synthesize(f0, sp, ap, fs, frame_period = 20)\n",
    "\n",
    "        yy = np.concatenate((yy,_y),axis = 0)\n",
    "\n",
    "    outpath = os.path.join(out_dir,who+'.wav')\n",
    "    sf.write(outpath, yy, fs)"
   ]
  }
 ],
 "metadata": {
  "kernelspec": {
   "display_name": "Python 3",
   "language": "python",
   "name": "python3"
  },
  "language_info": {
   "codemirror_mode": {
    "name": "ipython",
    "version": 3
   },
   "file_extension": ".py",
   "mimetype": "text/x-python",
   "name": "python",
   "nbconvert_exporter": "python",
   "pygments_lexer": "ipython3",
   "version": "3.6.5"
  }
 },
 "nbformat": 4,
 "nbformat_minor": 2
}
