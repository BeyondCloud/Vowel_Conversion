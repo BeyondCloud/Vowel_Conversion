{
 "cells": [
  {
   "cell_type": "markdown",
   "metadata": {},
   "source": [
    "### Generate all out"
   ]
  },
  {
   "cell_type": "code",
   "execution_count": 52,
   "metadata": {
    "scrolled": false
   },
   "outputs": [
    {
     "name": "stdout",
     "output_type": "stream",
     "text": [
      "0 Abun ...done\n",
      "1 boton ...done\n",
      "2 cos ...done\n",
      "3 LISA ...done\n",
      "4 乙彤 ...done\n",
      "5 偉晉 ...done\n",
      "6 君豪 ...done\n",
      "7 士峰 ...done\n",
      "8 妤瑄 ...done\n",
      "9 子齊 ...done\n",
      "10 學煒 ...done\n",
      "11 庭鈞 ...done\n",
      "12 徐葳 ...done\n",
      "13 志祥 ...done\n",
      "14 我 ...done\n",
      "15 敬恆 ...done\n",
      "16 昱嘉 ...done\n",
      "17 漢文 ...done\n",
      "18 瀞云 ...done\n",
      "19 繁傑 ...done\n",
      "20 聖倫 ...done\n",
      "21 贊全 ...done\n",
      "22 長霖 ...done\n",
      "done\n"
     ]
    }
   ],
   "source": [
    "import os\n",
    "import json\n",
    "import soundfile as sf\n",
    "import pyworld as pw\n",
    "import matplotlib.pyplot as plt\n",
    "import numpy as np\n",
    "import soundfile as sf\n",
    "aiueo = ['a','i','u','e','o']\n",
    "\n",
    "all_data = []\n",
    "wav_dir = 'gliss_dataset'\n",
    "out_dir = 'all_out'\n",
    "note_step=0.25\n",
    "frame_period = 10.0 # millisecond\n",
    "out_dir = 'all_out'\n",
    "def get_f0_index_tbl(f0,min_note,max_note,note_step=0.25):\n",
    "    f0_note = 12*np.log2(f0/440)+49\n",
    "    out_len = int((max_note-min_note)/note_step+1)\n",
    "    note_lin =np.linspace(min_note, max_note, num=out_len)\n",
    "    idx_out = np.zeros(out_len,dtype = int)\n",
    "    for i in range(out_len):\n",
    "        idx_out[i] = np.argmin(abs(f0_note-note_lin[i]))\n",
    "    return idx_out\n",
    "\n",
    "if not os.path.exists(out_dir):\n",
    "    os.makedirs(out_dir)\n",
    "\n",
    "for who_i,who in enumerate(os.listdir(wav_dir)):  \n",
    "    rangePath = os.path.join(wav_dir,who,\"info.json\")\n",
    "    \n",
    "    with open(rangePath, 'r') as f:\n",
    "        info = json.load(f)\n",
    "        [min_note,max_note] = info['pRange']\n",
    "    yy = np.array([0])\n",
    "    outpath = os.path.join(out_dir,who+'.wav')\n",
    "    if os.path.isfile(outpath):\n",
    "        print(who_i,who,'...done')\n",
    "        continue\n",
    "    print(min_note,max_note)\n",
    "    \n",
    "    for v in aiueo:\n",
    "        path = os.path.join(wav_dir,who,v)\n",
    "        print(path)\n",
    "        x,fs = sf.read(path+'.wav')\n",
    "        x = (x[:,0] + x[:,1])/2 \n",
    "        x = x/max(x)*0.5\n",
    "        f0, sp, ap = pw.wav2world(x, fs, frame_period =  frame_period)\n",
    "        f0 = f0[1:-1]\n",
    "        sp = sp[1:-1,:]\n",
    "        ap = ap[1:-1,:]\n",
    "        file_cnt = 2\n",
    "        while os.path.isfile(path+str(file_cnt)+'.wav'):\n",
    "            print(path+str(file_cnt)+'.wav')\n",
    "            x2,_ = sf.read(path+str(file_cnt)+'.wav')\n",
    "            x2 = (x2[:,0] + x2[:,1])/2 # stereo to mono\n",
    "            x2 = x2/max(x2)*0.5\n",
    "            f02, sp2,ap2 = pw.wav2world(x2, fs, frame_period =  frame_period)    # use default options\n",
    "\n",
    "            f0 =np.concatenate((f0,f02[1:-1]), axis=0)\n",
    "            sp =np.concatenate((sp,sp2[1:-1,:]), axis=0)\n",
    "            ap = np.concatenate((ap,ap2[1:-1,:]), axis=0)\n",
    "            file_cnt +=1\n",
    "    #   remove f0 detect fail frame\n",
    "        valid_idx = np.where(f0!=0)\n",
    "        f0 =  f0[valid_idx]\n",
    "        sp =  sp[valid_idx]\n",
    "        ap =  ap[valid_idx]\n",
    "\n",
    "\n",
    "        idx = get_f0_index_tbl(f0,min_note,max_note,note_step)  \n",
    "        sp =  sp[idx,:]\n",
    "        ap = ap[idx]\n",
    "\n",
    "        lin_f0 = np.linspace(min_note, max_note,num=len(idx))\n",
    "        f0 = 440*np.power(2,(lin_f0-49.0)/12.0)\n",
    "    #     _y = pw.synthesize(f0, sp, ap[:len(idx)], fs, frame_period = 20)\n",
    "        _y = pw.synthesize(f0, sp, ap, fs, frame_period = 20)\n",
    "\n",
    "        yy = np.concatenate((yy,_y),axis = 0)\n",
    "\n",
    "    \n",
    "    sf.write(outpath, yy, fs)\n",
    "print('done')"
   ]
  },
  {
   "cell_type": "code",
   "execution_count": 65,
   "metadata": {},
   "outputs": [],
   "source": [
    "x, fs = sf.read('a.wav')\n",
    "x = (x[:,0] + x[:,1])/2 \n",
    "x = x/max(x)*0.5\n",
    "frame_period = 10.0 # millisecond\n",
    "f0, sp, my_ap = pw.wav2world(x, fs, frame_period =  frame_period)    # use default options\n",
    "sp = sp[10,:]*np.ones((len(f0),1))\n",
    "# f0 = f0[1]*np.ones((len(f0),1))[:,0]+np.random.randn(len(f0),)*0\n",
    "\n",
    "y = pw.synthesize(f0,sp,my_ap, fs, frame_period = frame_period)\n",
    "sf.write('./e_resynth.wav',y, fs)"
   ]
  },
  {
   "cell_type": "markdown",
   "metadata": {},
   "source": [
    "### Generate sustain"
   ]
  },
  {
   "cell_type": "code",
   "execution_count": 66,
   "metadata": {},
   "outputs": [
    {
     "name": "stdout",
     "output_type": "stream",
     "text": [
      "0\n",
      "1\n",
      "2\n",
      "3\n",
      "5\n",
      "6\n",
      "7\n",
      "8\n",
      "9\n",
      "10\n",
      "11\n",
      "12\n",
      "13\n",
      "14\n",
      "17\n",
      "18\n",
      "19\n",
      "20\n",
      "21\n",
      "22\n",
      "done\n"
     ]
    }
   ],
   "source": [
    "import os\n",
    "import pickle\n",
    "import soundfile as sf\n",
    "import pyworld as pw\n",
    "import numpy as np\n",
    "import librosa\n",
    "def note2f0(n):\n",
    "    return 440.0*np.power(2,(n-49)/12.0)\n",
    "gen_note = 35.5\n",
    "gen_vowel = 'a'\n",
    "gen_sec =  1.5;\n",
    "fs = 44100;\n",
    "d = pickle.load(open(\"./train_data/d.pkl\", \"rb\"))\n",
    "# idx = np.where(d[1][\"note\"] == 31.)\n",
    "frame_period = 10.0 # millisecond\n",
    "frames = np.int(gen_sec/frame_period*1000)\n",
    "wav_lst = []\n",
    "mel_basis = librosa.filters.mel(sr=fs, n_fft=2048, n_mels=13,fmin=0, fmax=fs / 2)\n",
    "        \n",
    "for i,ele in enumerate(d):\n",
    "    seg_idx = np.where(ele[gen_vowel]['note'] == gen_note)[0]\n",
    "    if len(seg_idx) != 0:\n",
    "        print(i)\n",
    "        sp = ele[gen_vowel]['sp'][seg_idx,:]*np.ones((frames,1)) \n",
    "        f0 = np.array([note2f0(gen_note)]*frames)+np.random.randn(frames,)\n",
    "        ap = ele[gen_vowel]['ap'][seg_idx,:]*np.ones((frames,1))\n",
    "        y = pw.synthesize(f0,sp,ap, fs, frame_period = frame_period)\n",
    "        y = y/(max(y)-min(y))*0.4\n",
    "        \n",
    "        wav_lst.append(y)\n",
    "        \n",
    "print('done')"
   ]
  },
  {
   "cell_type": "code",
   "execution_count": 67,
   "metadata": {},
   "outputs": [
    {
     "name": "stdout",
     "output_type": "stream",
     "text": [
      "file write to ./a_35.5.wav\n"
     ]
    }
   ],
   "source": [
    "out = np.array([])\n",
    "for wav_file in wav_lst:\n",
    "    add_silence = np.concatenate((wav_file,np.zeros([4410,])))\n",
    "    out = np.concatenate((out,add_silence))\n",
    "sf.write('./'+gen_vowel+'_'+str(gen_note)+'.wav', out, fs)\n",
    "print('file write to','./'+gen_vowel+'_'+str(gen_note)+'.wav')"
   ]
  },
  {
   "cell_type": "code",
   "execution_count": 63,
   "metadata": {},
   "outputs": [
    {
     "name": "stdout",
     "output_type": "stream",
     "text": [
      "(array([30], dtype=int64),)\n"
     ]
    },
    {
     "data": {
      "text/plain": [
       "array([1.74907709e+00, 1.76706184e+00, 1.81631427e+00, ...,\n",
       "       3.46224894e-16, 4.42830075e-16, 3.92181655e-16])"
      ]
     },
     "execution_count": 63,
     "metadata": {},
     "output_type": "execute_result"
    }
   ],
   "source": [
    "print(np.where(d[21][gen_vowel]['note']==35.5))\n",
    "d[21]['a']['sp'][30,:]"
   ]
  }
 ],
 "metadata": {
  "kernelspec": {
   "display_name": "Python 3",
   "language": "python",
   "name": "python3"
  },
  "language_info": {
   "codemirror_mode": {
    "name": "ipython",
    "version": 3
   },
   "file_extension": ".py",
   "mimetype": "text/x-python",
   "name": "python",
   "nbconvert_exporter": "python",
   "pygments_lexer": "ipython3",
   "version": "3.6.5"
  }
 },
 "nbformat": 4,
 "nbformat_minor": 2
}
